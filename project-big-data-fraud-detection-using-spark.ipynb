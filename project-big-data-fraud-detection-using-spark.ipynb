{
 "cells": [
  {
   "cell_type": "markdown",
   "id": "f1dfc8a6",
   "metadata": {
    "application/vnd.databricks.v1+cell": {
     "cellMetadata": {},
     "inputWidgets": {},
     "nuid": "1e715160-3f68-45f5-b821-949aafff43a3",
     "showTitle": false,
     "title": ""
    },
    "papermill": {
     "duration": 0.033632,
     "end_time": "2024-06-20T09:40:23.183227",
     "exception": false,
     "start_time": "2024-06-20T09:40:23.149595",
     "status": "completed"
    },
    "tags": []
   },
   "source": [
    "---\n",
    "### [Introduction](#intro)\n",
    "### [Objective](#objective)\n",
    "### [Exploratory Data Analysis (EDA)](#eda)\n",
    "* [Understand - Structure & Variable Distribution](#understand)\n",
    "* [Clean - Feature Engineer, Scale, Balance, & Outlier Handling](#clean)\n",
    "* [Analyze Relationships](#relate)\n",
    "* [Use Spark on RDD structure](#RDD)\n",
    "\n",
    "### [Modeling](#model)\n",
    "* [Decision Tree](#Tree)\n",
    "* [Random Forest ](#Forest)\n",
    "* [Logistic Regression](#logistic)\n",
    "* [Confusion-matrix-> Decision Tree](#CTree)\n",
    "* [Confusion-matrix-> Random Forest ](#CForest)\n",
    "* [Confusion-matrix-> Logistic Regression](#Clogistic)\n",
    "\n",
    "### [Conclusions](#outro)\n",
    "---"
   ]
  },
  {
   "cell_type": "markdown",
   "id": "fc7e5276",
   "metadata": {
    "application/vnd.databricks.v1+cell": {
     "cellMetadata": {},
     "inputWidgets": {},
     "nuid": "0287924d-b4b7-46f1-a5d2-10b042defc94",
     "showTitle": false,
     "title": ""
    },
    "papermill": {
     "duration": 0.033118,
     "end_time": "2024-06-20T09:40:23.251199",
     "exception": false,
     "start_time": "2024-06-20T09:40:23.218081",
     "status": "completed"
    },
    "tags": []
   },
   "source": [
    "<a id=\"intro\"></a>\n",
    "## Introduction\n",
    "\n",
    "According to the Federal Bureau of Investigation, \"Credit card fraud is the unauthorized use of a credit or debit card, or similar payment tool (ACH, EFT, recurring charge, etc.), to fraudulently obtain money or property. Credit and debit card numbers can be stolen from unsecured websites or can be obtained in an identity theft scheme.\"\n",
    "\n",
    "In the FTC's Consumer Sentinel Network Data Book 2019 it was noted that \"Credit card fraud tops the list of identity theft reports in 2019. The FTC received more than 271,000 reports from people who said their information was misused on an existing account or to open a new credit card account. The Nilson Report, the leading global card and mobile payments trade publication, releases annual fraud statistics and indicated in the November 2019 issue that global losses had amounted to \\\\$27.85 billion. The United States which represents 21.54% of transactions accounted for \\\\$9.47 or 33.99% of the gross worldwide losses.  \n",
    "\n",
    "With data breaches becoming more common in recent years we can imagine that these numbers will continue to rise presenting an opportunity for credit card companies to take a proactive stance on detecting fraudulent charges quickly. We will explore various models utilizing a credit card transaction data set from Kaggle and evaluating which has the best performance metrics for classifying an incoming transaction as fraudulent or normal. \n",
    "\n",
    "The data set is provided by [The Machine Learning Group (MLG)](https://mlg.ulb.ac.be/wordpress/) of [Université Libre de Bruxelles (ULB)](https://www.ulb.be) and contains transactions made by european cardholders in September 2013."
   ]
  },
  {
   "cell_type": "markdown",
   "id": "92a3cdae",
   "metadata": {
    "application/vnd.databricks.v1+cell": {
     "cellMetadata": {},
     "inputWidgets": {},
     "nuid": "fcddd790-8301-4a7c-bf0c-b922a0e8c0f1",
     "showTitle": false,
     "title": ""
    },
    "papermill": {
     "duration": 0.032738,
     "end_time": "2024-06-20T09:40:23.317200",
     "exception": false,
     "start_time": "2024-06-20T09:40:23.284462",
     "status": "completed"
    },
    "tags": []
   },
   "source": [
    "## Objective\n",
    "The primary goal of this notebook is to develop a highly performant model for detecting fraudulent credit card transactions that could be utilized by our client the credit card company. Along the way we will outline a generalized end to end process for completing a machine learning project from data load to model validation and insights derived from the ultimate solution. "
   ]
  },
  {
   "cell_type": "markdown",
   "id": "45bf26b5",
   "metadata": {
    "application/vnd.databricks.v1+cell": {
     "cellMetadata": {},
     "inputWidgets": {},
     "nuid": "2d8b9581-b8e6-448f-ae30-4403115e0547",
     "showTitle": false,
     "title": ""
    },
    "papermill": {
     "duration": 0.032733,
     "end_time": "2024-06-20T09:40:23.382789",
     "exception": false,
     "start_time": "2024-06-20T09:40:23.350056",
     "status": "completed"
    },
    "tags": []
   },
   "source": [
    "<a id=\"eda\"></a>\n",
    "## Exploratory Data Analysis (EDA)\n",
    "\n",
    "First we need to explore the data set to **understand** our variables,\n",
    "**clean** our dataset, and **analyze relationships** between variables. Ultimately EDA should allow us to answer the following questions from Daniel Bourke's article [A Gentle Introduction to Exploratory Data Analysis](https://towardsdatascience.com/a-gentle-introduction-to-exploratory-data-analysis-f11d843b8184):\n",
    "* *What question(s) are you trying to solve (or prove wrong)?*\n",
    "* *What kind of data do you have and how do you treat different types?*\n",
    "* *What’s missing from the data and how do you deal with it?*\n",
    "* *Where are the outliers and why should you care about them?*\n",
    "* *How can you add, change or remove features to get more out of your data?*\n",
    "\n",
    "While we won't explicitly answer these questions in this paper we will approach understanding, cleaning, and analyzing with them in mind. Before we begin it is important to remember that except for `Time` and `Amount` all explanatory variables are transformed due to privacy reasons. The explanatory variables were transformed through [prinicpal component analysis or PCA](https://en.wikipedia.org/wiki/Principal_component_analysis) and no further information can be provided regarding features `V1, V2, ..., V28`.\n",
    "\n",
    "`Time` contains the seconds elapsed between each transaction and the first transaction in the dataset. The feature `Amount` is the transaction amount, this feature can be used for example-dependant cost-senstive learning. Finally the feature `Class` is the response variable and it takes value 1 in case of fraud and 0 otherwise."
   ]
  },
  {
   "cell_type": "markdown",
   "id": "ff08a257",
   "metadata": {
    "application/vnd.databricks.v1+cell": {
     "cellMetadata": {
      "byteLimit": 2048000,
      "rowLimit": 10000
     },
     "inputWidgets": {},
     "nuid": "9ff1755c-6850-44ef-8a3e-5aaa5eb0c9b5",
     "showTitle": false,
     "title": ""
    },
    "papermill": {
     "duration": 0.033451,
     "end_time": "2024-06-20T09:40:23.448740",
     "exception": false,
     "start_time": "2024-06-20T09:40:23.415289",
     "status": "completed"
    },
    "tags": []
   },
   "source": [
    "<a id=\"understand\"></a>\n",
    "### Understand - Structure & Variable Distribution\n",
    "We start by reading in the credit card transaction data set CSV file as a pandas [DataFrame](https://pandas.pydata.org/pandas-docs/stable/reference/api/pandas.DataFrame.html) object and look a sample of some records using the [sample](https://pandas.pydata.org/pandas-docs/stable/reference/api/pandas.DataFrame.sample.html) method. Then begin exploring using the [describe](https://pandas.pydata.org/pandas-docs/stable/reference/api/pandas.DataFrame.describe.html) method to obtain descriptive statistics about each of the available variables."
   ]
  },
  {
   "cell_type": "markdown",
   "id": "f6792e68",
   "metadata": {
    "application/vnd.databricks.v1+cell": {
     "cellMetadata": {},
     "inputWidgets": {},
     "nuid": "20b61546-d046-4fc5-97e6-64f0a8f261fc",
     "showTitle": false,
     "title": ""
    },
    "papermill": {
     "duration": 0.032477,
     "end_time": "2024-06-20T09:40:23.514152",
     "exception": false,
     "start_time": "2024-06-20T09:40:23.481675",
     "status": "completed"
    },
    "tags": []
   },
   "source": [
    "# loading required libraries"
   ]
  },
  {
   "cell_type": "code",
   "execution_count": 1,
   "id": "16ea90b6",
   "metadata": {
    "execution": {
     "iopub.execute_input": "2024-06-20T09:40:23.582453Z",
     "iopub.status.busy": "2024-06-20T09:40:23.581942Z",
     "iopub.status.idle": "2024-06-20T09:41:20.107703Z",
     "shell.execute_reply": "2024-06-20T09:41:20.105421Z"
    },
    "papermill": {
     "duration": 56.563608,
     "end_time": "2024-06-20T09:41:20.110749",
     "exception": false,
     "start_time": "2024-06-20T09:40:23.547141",
     "status": "completed"
    },
    "tags": []
   },
   "outputs": [
    {
     "name": "stdout",
     "output_type": "stream",
     "text": [
      "Collecting pyspark\r\n",
      "  Downloading pyspark-3.5.1.tar.gz (317.0 MB)\r\n",
      "\u001b[2K     \u001b[90m━━━━━━━━━━━━━━━━━━━━━━━━━━━━━━━━━━━━━━━\u001b[0m \u001b[32m317.0/317.0 MB\u001b[0m \u001b[31m4.1 MB/s\u001b[0m eta \u001b[36m0:00:00\u001b[0m\r\n",
      "\u001b[?25h  Preparing metadata (setup.py) ... \u001b[?25l-\b \b\\\b \bdone\r\n",
      "\u001b[?25hRequirement already satisfied: py4j==0.10.9.7 in /opt/conda/lib/python3.10/site-packages (from pyspark) (0.10.9.7)\r\n",
      "Building wheels for collected packages: pyspark\r\n",
      "  Building wheel for pyspark (setup.py) ... \u001b[?25l-\b \b\\\b \b|\b \bdone\r\n",
      "\u001b[?25h  Created wheel for pyspark: filename=pyspark-3.5.1-py2.py3-none-any.whl size=317488493 sha256=6f8106694c3a99f999b70946091629bf5bdc970c266dd9f961d42792945b6f16\r\n",
      "  Stored in directory: /root/.cache/pip/wheels/80/1d/60/2c256ed38dddce2fdd93be545214a63e02fbd8d74fb0b7f3a6\r\n",
      "Successfully built pyspark\r\n",
      "Installing collected packages: pyspark\r\n",
      "Successfully installed pyspark-3.5.1\r\n",
      "Note: you may need to restart the kernel to use updated packages.\n"
     ]
    }
   ],
   "source": [
    "%pip install pyspark"
   ]
  },
  {
   "cell_type": "code",
   "execution_count": 2,
   "id": "7f7e82e0",
   "metadata": {
    "application/vnd.databricks.v1+cell": {
     "cellMetadata": {
      "byteLimit": 2048000,
      "rowLimit": 10000
     },
     "inputWidgets": {},
     "nuid": "05f55c66-85f6-474d-8726-6bd3d4d5df36",
     "showTitle": false,
     "title": ""
    },
    "execution": {
     "iopub.execute_input": "2024-06-20T09:41:20.219261Z",
     "iopub.status.busy": "2024-06-20T09:41:20.218593Z",
     "iopub.status.idle": "2024-06-20T09:41:23.351856Z",
     "shell.execute_reply": "2024-06-20T09:41:23.350451Z"
    },
    "papermill": {
     "duration": 3.191805,
     "end_time": "2024-06-20T09:41:23.354902",
     "exception": false,
     "start_time": "2024-06-20T09:41:20.163097",
     "status": "completed"
    },
    "tags": []
   },
   "outputs": [],
   "source": [
    "from pyspark import SparkContext, SparkConf\n",
    "from pyspark.sql import SparkSession\n",
    "from pyspark.sql.types import IntegerType, DoubleType\n",
    "from pyspark.sql.functions import mean as _mean, stddev as _stddev, col, when\n",
    "from statistics import mode as _mode\n",
    "from pyspark.ml.feature import StringIndexer, VectorAssembler\n",
    "from pyspark.ml.classification import LogisticRegression, DecisionTreeClassifier, RandomForestClassifier, GBTClassifier\n",
    "from pyspark.ml import Pipeline\n",
    "from pyspark.ml.evaluation import MulticlassClassificationEvaluator\n",
    "from pyspark.mllib.evaluation import MulticlassMetrics\n",
    "from pyspark.mllib.util import MLUtils\n",
    "from pyspark.mllib.evaluation import MulticlassMetrics\n",
    "import seaborn as sns\n",
    "from pyspark.ml.classification import RandomForestClassificationModel\n",
    "import matplotlib.pyplot as plt"
   ]
  },
  {
   "cell_type": "code",
   "execution_count": 3,
   "id": "c8373d00",
   "metadata": {
    "application/vnd.databricks.v1+cell": {
     "cellMetadata": {
      "byteLimit": 2048000,
      "rowLimit": 10000
     },
     "inputWidgets": {},
     "nuid": "20d8b192-a3bb-4d72-ad4a-b5cdb6a96745",
     "showTitle": false,
     "title": ""
    },
    "execution": {
     "iopub.execute_input": "2024-06-20T09:41:23.448073Z",
     "iopub.status.busy": "2024-06-20T09:41:23.447343Z",
     "iopub.status.idle": "2024-06-20T09:41:29.677246Z",
     "shell.execute_reply": "2024-06-20T09:41:29.675761Z"
    },
    "papermill": {
     "duration": 6.279744,
     "end_time": "2024-06-20T09:41:29.680874",
     "exception": false,
     "start_time": "2024-06-20T09:41:23.401130",
     "status": "completed"
    },
    "tags": []
   },
   "outputs": [
    {
     "name": "stderr",
     "output_type": "stream",
     "text": [
      "Setting default log level to \"WARN\".\n",
      "To adjust logging level use sc.setLogLevel(newLevel). For SparkR, use setLogLevel(newLevel).\n",
      "24/06/20 09:41:27 WARN NativeCodeLoader: Unable to load native-hadoop library for your platform... using builtin-java classes where applicable\n"
     ]
    }
   ],
   "source": [
    "spark = SparkSession.builder.appName(\"Fraud-Detection\").getOrCreate()"
   ]
  },
  {
   "cell_type": "markdown",
   "id": "57a07b3c",
   "metadata": {
    "application/vnd.databricks.v1+cell": {
     "cellMetadata": {},
     "inputWidgets": {},
     "nuid": "9bd8e7bb-1ca1-4f51-8577-2bbd8b01a822",
     "showTitle": false,
     "title": ""
    },
    "papermill": {
     "duration": 0.048787,
     "end_time": "2024-06-20T09:41:29.775553",
     "exception": false,
     "start_time": "2024-06-20T09:41:29.726766",
     "status": "completed"
    },
    "tags": []
   },
   "source": [
    "### Loading the Dataset"
   ]
  },
  {
   "cell_type": "code",
   "execution_count": 4,
   "id": "ac342051",
   "metadata": {
    "application/vnd.databricks.v1+cell": {
     "cellMetadata": {
      "byteLimit": 2048000,
      "rowLimit": 10000
     },
     "inputWidgets": {},
     "nuid": "fe22ee16-50eb-4664-9810-b87f41481852",
     "showTitle": false,
     "title": ""
    },
    "execution": {
     "iopub.execute_input": "2024-06-20T09:41:29.872699Z",
     "iopub.status.busy": "2024-06-20T09:41:29.871134Z",
     "iopub.status.idle": "2024-06-20T09:41:41.451139Z",
     "shell.execute_reply": "2024-06-20T09:41:41.449532Z"
    },
    "papermill": {
     "duration": 11.631711,
     "end_time": "2024-06-20T09:41:41.454324",
     "exception": false,
     "start_time": "2024-06-20T09:41:29.822613",
     "status": "completed"
    },
    "tags": []
   },
   "outputs": [
    {
     "name": "stderr",
     "output_type": "stream",
     "text": [
      "                                                                                \r"
     ]
    }
   ],
   "source": [
    "Creditcard = spark.read.csv(\"/kaggle/input/creditcardfraud/creditcard.csv\", inferSchema = True, header = True)"
   ]
  },
  {
   "cell_type": "code",
   "execution_count": 5,
   "id": "8ba891bb",
   "metadata": {
    "application/vnd.databricks.v1+cell": {
     "cellMetadata": {
      "byteLimit": 2048000,
      "rowLimit": 10000
     },
     "inputWidgets": {},
     "nuid": "69b8a7f9-95fc-4478-936c-81fbd1a8b1d4",
     "showTitle": false,
     "title": ""
    },
    "execution": {
     "iopub.execute_input": "2024-06-20T09:41:41.550671Z",
     "iopub.status.busy": "2024-06-20T09:41:41.550188Z",
     "iopub.status.idle": "2024-06-20T09:41:43.122430Z",
     "shell.execute_reply": "2024-06-20T09:41:43.121039Z"
    },
    "papermill": {
     "duration": 1.623235,
     "end_time": "2024-06-20T09:41:43.125473",
     "exception": false,
     "start_time": "2024-06-20T09:41:41.502238",
     "status": "completed"
    },
    "tags": []
   },
   "outputs": [
    {
     "name": "stderr",
     "output_type": "stream",
     "text": [
      "                                                                                \r"
     ]
    },
    {
     "data": {
      "text/plain": [
       "284807"
      ]
     },
     "execution_count": 5,
     "metadata": {},
     "output_type": "execute_result"
    }
   ],
   "source": [
    "Creditcard.count()"
   ]
  },
  {
   "cell_type": "code",
   "execution_count": 6,
   "id": "f47dcf57",
   "metadata": {
    "application/vnd.databricks.v1+cell": {
     "cellMetadata": {
      "byteLimit": 2048000,
      "rowLimit": 10000
     },
     "inputWidgets": {},
     "nuid": "1e4e2841-0bc6-4725-a8b7-cc4b8e93493a",
     "showTitle": false,
     "title": ""
    },
    "execution": {
     "iopub.execute_input": "2024-06-20T09:41:43.226204Z",
     "iopub.status.busy": "2024-06-20T09:41:43.224807Z",
     "iopub.status.idle": "2024-06-20T09:41:43.264885Z",
     "shell.execute_reply": "2024-06-20T09:41:43.263681Z"
    },
    "papermill": {
     "duration": 0.093306,
     "end_time": "2024-06-20T09:41:43.267759",
     "exception": false,
     "start_time": "2024-06-20T09:41:43.174453",
     "status": "completed"
    },
    "tags": []
   },
   "outputs": [
    {
     "data": {
      "text/plain": [
       "['Time',\n",
       " 'V1',\n",
       " 'V2',\n",
       " 'V3',\n",
       " 'V4',\n",
       " 'V5',\n",
       " 'V6',\n",
       " 'V7',\n",
       " 'V8',\n",
       " 'V9',\n",
       " 'V10',\n",
       " 'V11',\n",
       " 'V12',\n",
       " 'V13',\n",
       " 'V14',\n",
       " 'V15',\n",
       " 'V16',\n",
       " 'V17',\n",
       " 'V18',\n",
       " 'V19',\n",
       " 'V20',\n",
       " 'V21',\n",
       " 'V22',\n",
       " 'V23',\n",
       " 'V24',\n",
       " 'V25',\n",
       " 'V26',\n",
       " 'V27',\n",
       " 'V28',\n",
       " 'Amount',\n",
       " 'Class']"
      ]
     },
     "execution_count": 6,
     "metadata": {},
     "output_type": "execute_result"
    }
   ],
   "source": [
    "Creditcard.columns"
   ]
  },
  {
   "cell_type": "markdown",
   "id": "85f6ac9d",
   "metadata": {
    "application/vnd.databricks.v1+cell": {
     "cellMetadata": {},
     "inputWidgets": {},
     "nuid": "a1bace68-e057-4a8e-9bed-9cca8ea01ec2",
     "showTitle": false,
     "title": ""
    },
    "papermill": {
     "duration": 0.047184,
     "end_time": "2024-06-20T09:41:43.363732",
     "exception": false,
     "start_time": "2024-06-20T09:41:43.316548",
     "status": "completed"
    },
    "tags": []
   },
   "source": [
    "### Finding Missing null values in each column"
   ]
  },
  {
   "cell_type": "code",
   "execution_count": 7,
   "id": "61ede423",
   "metadata": {
    "application/vnd.databricks.v1+cell": {
     "cellMetadata": {
      "byteLimit": 2048000,
      "rowLimit": 10000
     },
     "inputWidgets": {},
     "nuid": "8994a7fd-a92d-40ab-b8d1-3362af358e1f",
     "showTitle": false,
     "title": ""
    },
    "execution": {
     "iopub.execute_input": "2024-06-20T09:41:43.461199Z",
     "iopub.status.busy": "2024-06-20T09:41:43.460721Z",
     "iopub.status.idle": "2024-06-20T09:41:47.916348Z",
     "shell.execute_reply": "2024-06-20T09:41:47.915123Z"
    },
    "papermill": {
     "duration": 4.508165,
     "end_time": "2024-06-20T09:41:47.920021",
     "exception": false,
     "start_time": "2024-06-20T09:41:43.411856",
     "status": "completed"
    },
    "tags": []
   },
   "outputs": [
    {
     "name": "stdout",
     "output_type": "stream",
     "text": [
      "Time has number of NULLs : 0\n",
      "V1 has number of NULLs : 0\n",
      "V2 has number of NULLs : 0\n",
      "V3 has number of NULLs : 0\n",
      "V4 has number of NULLs : 0\n",
      "V5 has number of NULLs : 0\n",
      "V6 has number of NULLs : 0\n",
      "V7 has number of NULLs : 0\n",
      "V8 has number of NULLs : 0\n",
      "V9 has number of NULLs : 0\n",
      "V10 has number of NULLs : 0\n",
      "V11 has number of NULLs : 0\n",
      "V12 has number of NULLs : 0\n",
      "V13 has number of NULLs : 0\n",
      "V14 has number of NULLs : 0\n",
      "V15 has number of NULLs : 0\n",
      "V16 has number of NULLs : 0\n",
      "V17 has number of NULLs : 0\n",
      "V18 has number of NULLs : 0\n",
      "V19 has number of NULLs : 0\n",
      "V20 has number of NULLs : 0\n",
      "V21 has number of NULLs : 0\n",
      "V22 has number of NULLs : 0\n",
      "V23 has number of NULLs : 0\n",
      "V24 has number of NULLs : 0\n",
      "V25 has number of NULLs : 0\n",
      "V26 has number of NULLs : 0\n",
      "V27 has number of NULLs : 0\n",
      "V28 has number of NULLs : 0\n",
      "Amount has number of NULLs : 0\n",
      "Class has number of NULLs : 0\n"
     ]
    }
   ],
   "source": [
    "def missing():\n",
    "    for columns in Creditcard.columns:\n",
    "        print(columns + ' has number of NULLs : ' + str(Creditcard[Creditcard[columns] == 'NA'].count()))\n",
    "missing()"
   ]
  },
  {
   "cell_type": "code",
   "execution_count": 8,
   "id": "bcbc12c5",
   "metadata": {
    "application/vnd.databricks.v1+cell": {
     "cellMetadata": {
      "byteLimit": 2048000,
      "rowLimit": 10000
     },
     "inputWidgets": {},
     "nuid": "0f36d2c0-fd5e-4664-8230-7e8f6dae3a5b",
     "showTitle": false,
     "title": ""
    },
    "execution": {
     "iopub.execute_input": "2024-06-20T09:41:48.060529Z",
     "iopub.status.busy": "2024-06-20T09:41:48.059844Z",
     "iopub.status.idle": "2024-06-20T09:41:58.657354Z",
     "shell.execute_reply": "2024-06-20T09:41:58.655973Z"
    },
    "papermill": {
     "duration": 10.673347,
     "end_time": "2024-06-20T09:41:58.660489",
     "exception": false,
     "start_time": "2024-06-20T09:41:47.987142",
     "status": "completed"
    },
    "tags": []
   },
   "outputs": [
    {
     "name": "stderr",
     "output_type": "stream",
     "text": [
      "24/06/20 09:41:48 WARN SparkStringUtils: Truncated the string representation of a plan since it was too large. This behavior can be adjusted by setting 'spark.sql.debug.maxToStringFields'.\n",
      "                                                                                \r"
     ]
    }
   ],
   "source": [
    "df_pandas = Creditcard.toPandas()"
   ]
  },
  {
   "cell_type": "code",
   "execution_count": 9,
   "id": "341c4d46",
   "metadata": {
    "application/vnd.databricks.v1+cell": {
     "cellMetadata": {
      "byteLimit": 2048000,
      "rowLimit": 10000
     },
     "inputWidgets": {},
     "nuid": "db520879-de9a-4340-bdf0-efaf2e587a33",
     "showTitle": false,
     "title": ""
    },
    "execution": {
     "iopub.execute_input": "2024-06-20T09:41:58.756293Z",
     "iopub.status.busy": "2024-06-20T09:41:58.755884Z",
     "iopub.status.idle": "2024-06-20T09:41:59.136927Z",
     "shell.execute_reply": "2024-06-20T09:41:59.135483Z"
    },
    "papermill": {
     "duration": 0.431969,
     "end_time": "2024-06-20T09:41:59.139731",
     "exception": false,
     "start_time": "2024-06-20T09:41:58.707762",
     "status": "completed"
    },
    "tags": []
   },
   "outputs": [
    {
     "data": {
      "image/png": "[encoded data removed]",
      "text/plain": [
       "<Figure size 1300x500 with 1 Axes>"
      ]
     },
     "metadata": {},
     "output_type": "display_data"
    }
   ],
   "source": [
    "df_pandas['Class'].value_counts(sort=False).plot.bar(\n",
    "    title=\"Class Frequency Distribution\\n0 = Normal\\n1 = Fraud\", \n",
    "    color=['grey','red'],\n",
    "    rot=0,\n",
    "    figsize=(13,5)\n",
    ");"
   ]
  },
  {
   "cell_type": "markdown",
   "id": "d1a58d30",
   "metadata": {
    "application/vnd.databricks.v1+cell": {
     "cellMetadata": {},
     "inputWidgets": {},
     "nuid": "5485689b-bdaf-4159-a033-1c1e98600f5e",
     "showTitle": false,
     "title": ""
    },
    "papermill": {
     "duration": 0.048176,
     "end_time": "2024-06-20T09:41:59.236999",
     "exception": false,
     "start_time": "2024-06-20T09:41:59.188823",
     "status": "completed"
    },
    "tags": []
   },
   "source": [
    "`Time` appears to be cyclical with periods every approximately `86000` seconds (24 hours). We will execute simple feature engineering to break out the various time components, e.g. hour, min, second. If the data contained at least 2 weeks worth of observations we could possibly extract the day of week component as there is often a weekly seasonality in transaction or sales data. We will subsequently scale the new time component features to align with the PCA variables.  "
   ]
  },
  {
   "cell_type": "code",
   "execution_count": 10,
   "id": "69c6284c",
   "metadata": {
    "application/vnd.databricks.v1+cell": {
     "cellMetadata": {
      "byteLimit": 2048000,
      "rowLimit": 10000
     },
     "inputWidgets": {},
     "nuid": "2ab1035e-bfca-4b4d-9337-6c2c9eeb0280",
     "showTitle": false,
     "title": ""
    },
    "execution": {
     "iopub.execute_input": "2024-06-20T09:41:59.335573Z",
     "iopub.status.busy": "2024-06-20T09:41:59.334440Z",
     "iopub.status.idle": "2024-06-20T09:41:59.808723Z",
     "shell.execute_reply": "2024-06-20T09:41:59.807252Z"
    },
    "papermill": {
     "duration": 0.527058,
     "end_time": "2024-06-20T09:41:59.811559",
     "exception": false,
     "start_time": "2024-06-20T09:41:59.284501",
     "status": "completed"
    },
    "tags": []
   },
   "outputs": [
    {
     "data": {
      "image/png": "[encoded data removed]",
      "text/plain": [
       "<Figure size 1300x500 with 1 Axes>"
      ]
     },
     "metadata": {},
     "output_type": "display_data"
    }
   ],
   "source": [
    "df_pandas['Amount'].plot.hist(\n",
    "    title=\"Time Frequency Distribution\",\n",
    "    bins=50, \n",
    "    color='blue',\n",
    "    figsize=(13,5)\n",
    ");"
   ]
  },
  {
   "cell_type": "markdown",
   "id": "b0bf7433",
   "metadata": {
    "application/vnd.databricks.v1+cell": {
     "cellMetadata": {},
     "inputWidgets": {},
     "nuid": "2a00a31a-b1dc-4cfb-ba90-eef8d9c520eb",
     "showTitle": false,
     "title": ""
    },
    "papermill": {
     "duration": 0.047849,
     "end_time": "2024-06-20T09:41:59.908311",
     "exception": false,
     "start_time": "2024-06-20T09:41:59.860462",
     "status": "completed"
    },
    "tags": []
   },
   "source": [
    "`Amount` is a highly skewed variable with maximum observed value of `25,691.16` however most transactions averaging at only `88`. Again because of the wide distribution of values we will scale the values down and align with the PCA variables. We should also note that `Amount` does not have any unit associated with it. Given the fact that the data was sourced in Europe which has many currencies and the fact that we will be scaling the variable later we will leave the numeric value unitless."
   ]
  },
  {
   "cell_type": "code",
   "execution_count": 11,
   "id": "8288e56f",
   "metadata": {
    "application/vnd.databricks.v1+cell": {
     "cellMetadata": {
      "byteLimit": 2048000,
      "rowLimit": 10000
     },
     "inputWidgets": {},
     "nuid": "09b2b4d2-756d-4d3f-b04f-706f024f8cae",
     "showTitle": false,
     "title": ""
    },
    "execution": {
     "iopub.execute_input": "2024-06-20T09:42:00.008915Z",
     "iopub.status.busy": "2024-06-20T09:42:00.007771Z",
     "iopub.status.idle": "2024-06-20T09:42:00.598488Z",
     "shell.execute_reply": "2024-06-20T09:42:00.597035Z"
    },
    "papermill": {
     "duration": 0.645141,
     "end_time": "2024-06-20T09:42:00.601733",
     "exception": false,
     "start_time": "2024-06-20T09:41:59.956592",
     "status": "completed"
    },
    "tags": []
   },
   "outputs": [
    {
     "data": {
      "image/png": "[encoded data removed]",
      "text/plain": [
       "<Figure size 1300x500 with 1 Axes>"
      ]
     },
     "metadata": {},
     "output_type": "display_data"
    }
   ],
   "source": [
    "df_pandas['Amount'].plot.hist(\n",
    "    title=\"Amount Frequency Distibution\",\n",
    "    bins=100,\n",
    "    color='blue',\n",
    "    figsize=(13,5),\n",
    "    density=True\n",
    ");"
   ]
  },
  {
   "cell_type": "markdown",
   "id": "599af341",
   "metadata": {
    "application/vnd.databricks.v1+cell": {
     "cellMetadata": {},
     "inputWidgets": {},
     "nuid": "bfbce3e9-519b-447f-951b-c61a745898c6",
     "showTitle": false,
     "title": ""
    },
    "papermill": {
     "duration": 0.050669,
     "end_time": "2024-06-20T09:42:00.703101",
     "exception": false,
     "start_time": "2024-06-20T09:42:00.652432",
     "status": "completed"
    },
    "tags": []
   },
   "source": [
    "All of our PCA variables,`V1, V2, ..., V28`, as mentioned before have been transformed."
   ]
  },
  {
   "cell_type": "code",
   "execution_count": 12,
   "id": "6862f51a",
   "metadata": {
    "application/vnd.databricks.v1+cell": {
     "cellMetadata": {
      "byteLimit": 2048000,
      "rowLimit": 10000
     },
     "inputWidgets": {},
     "nuid": "acf75158-9787-4d8a-b43b-ffd723524999",
     "showTitle": false,
     "title": ""
    },
    "execution": {
     "iopub.execute_input": "2024-06-20T09:42:00.806141Z",
     "iopub.status.busy": "2024-06-20T09:42:00.805664Z",
     "iopub.status.idle": "2024-06-20T09:42:07.887923Z",
     "shell.execute_reply": "2024-06-20T09:42:07.886699Z"
    },
    "papermill": {
     "duration": 7.137383,
     "end_time": "2024-06-20T09:42:07.890656",
     "exception": false,
     "start_time": "2024-06-20T09:42:00.753273",
     "status": "completed"
    },
    "tags": []
   },
   "outputs": [
    {
     "data": {
      "image/png": "[encoded data removed]",
      "text/plain": [
       "<Figure size 1500x2500 with 30 Axes>"
      ]
     },
     "metadata": {},
     "output_type": "display_data"
    }
   ],
   "source": [
    "df_pandas.drop(['Amount','Class'],axis=1).hist(\n",
    "    figsize=(15,25), \n",
    "    ylabelsize=False,\n",
    "    grid=False\n",
    ");"
   ]
  },
  {
   "cell_type": "markdown",
   "id": "b3d0b503",
   "metadata": {
    "application/vnd.databricks.v1+cell": {
     "cellMetadata": {},
     "inputWidgets": {},
     "nuid": "ad8b03ce-99c9-41ba-972c-9907b87fe2db",
     "showTitle": false,
     "title": ""
    },
    "papermill": {
     "duration": 0.05205,
     "end_time": "2024-06-20T09:42:07.994530",
     "exception": false,
     "start_time": "2024-06-20T09:42:07.942480",
     "status": "completed"
    },
    "tags": []
   },
   "source": [
    "Looking closer we can see some variety in the distributions even though all the PCA variables have mean values of `0`. Distributions of variables `V4`, `V12`, and `V28` are shown below. `V4` shows a slightly right skewed, `V12` appears to be left skewed, and `V28` shows a very narrow distribution. We will look at these distributions with respect to our target variable `Class` later as it might be that the normal transactions follow a normal distribution and that the fraudulent transactions are what are skewing these plots."
   ]
  },
  {
   "cell_type": "code",
   "execution_count": 13,
   "id": "57f90724",
   "metadata": {
    "application/vnd.databricks.v1+cell": {
     "cellMetadata": {
      "byteLimit": 2048000,
      "rowLimit": 10000
     },
     "inputWidgets": {},
     "nuid": "d801a239-01ff-4ff0-82dc-38e9839421cf",
     "showTitle": false,
     "title": ""
    },
    "execution": {
     "iopub.execute_input": "2024-06-20T09:42:08.103333Z",
     "iopub.status.busy": "2024-06-20T09:42:08.102854Z",
     "iopub.status.idle": "2024-06-20T09:42:08.487707Z",
     "shell.execute_reply": "2024-06-20T09:42:08.486140Z"
    },
    "papermill": {
     "duration": 0.444064,
     "end_time": "2024-06-20T09:42:08.490661",
     "exception": false,
     "start_time": "2024-06-20T09:42:08.046597",
     "status": "completed"
    },
    "tags": []
   },
   "outputs": [
    {
     "data": {
      "image/png": "[encoded data removed]",
      "text/plain": [
       "<Figure size 1300x500 with 1 Axes>"
      ]
     },
     "metadata": {},
     "output_type": "display_data"
    }
   ],
   "source": [
    "df_pandas.V4.hist(\n",
    "    bins=50,\n",
    "    figsize=(13,5),\n",
    "    grid=False\n",
    ");"
   ]
  },
  {
   "cell_type": "code",
   "execution_count": 14,
   "id": "2d8e0f99",
   "metadata": {
    "application/vnd.databricks.v1+cell": {
     "cellMetadata": {
      "byteLimit": 2048000,
      "rowLimit": 10000
     },
     "inputWidgets": {},
     "nuid": "3915cd47-b9bd-46ae-9d9e-532bb29f3a56",
     "showTitle": false,
     "title": ""
    },
    "execution": {
     "iopub.execute_input": "2024-06-20T09:42:08.595229Z",
     "iopub.status.busy": "2024-06-20T09:42:08.594773Z",
     "iopub.status.idle": "2024-06-20T09:42:08.987998Z",
     "shell.execute_reply": "2024-06-20T09:42:08.986816Z"
    },
    "papermill": {
     "duration": 0.449461,
     "end_time": "2024-06-20T09:42:08.990735",
     "exception": false,
     "start_time": "2024-06-20T09:42:08.541274",
     "status": "completed"
    },
    "tags": []
   },
   "outputs": [
    {
     "data": {
      "image/png": "[encoded data removed]",
      "text/plain": [
       "<Figure size 1300x500 with 1 Axes>"
      ]
     },
     "metadata": {},
     "output_type": "display_data"
    }
   ],
   "source": [
    "df_pandas.V12.hist(\n",
    "    bins=50,\n",
    "    figsize=(13,5),\n",
    "    grid=False\n",
    ");"
   ]
  },
  {
   "cell_type": "code",
   "execution_count": 15,
   "id": "a4df8a00",
   "metadata": {
    "application/vnd.databricks.v1+cell": {
     "cellMetadata": {
      "byteLimit": 2048000,
      "rowLimit": 10000
     },
     "inputWidgets": {},
     "nuid": "552478d1-94a0-49f7-ab93-20c81accde1c",
     "showTitle": false,
     "title": ""
    },
    "execution": {
     "iopub.execute_input": "2024-06-20T09:42:09.098283Z",
     "iopub.status.busy": "2024-06-20T09:42:09.097869Z",
     "iopub.status.idle": "2024-06-20T09:42:09.416252Z",
     "shell.execute_reply": "2024-06-20T09:42:09.414730Z"
    },
    "papermill": {
     "duration": 0.375503,
     "end_time": "2024-06-20T09:42:09.419104",
     "exception": false,
     "start_time": "2024-06-20T09:42:09.043601",
     "status": "completed"
    },
    "tags": []
   },
   "outputs": [
    {
     "data": {
      "image/png": "[encoded data removed]",
      "text/plain": [
       "<Figure size 1300x500 with 1 Axes>"
      ]
     },
     "metadata": {},
     "output_type": "display_data"
    }
   ],
   "source": [
    "df_pandas.V28.hist(\n",
    "    bins=50,\n",
    "    figsize=(13,5),\n",
    "    grid=False\n",
    ");"
   ]
  },
  {
   "cell_type": "code",
   "execution_count": 16,
   "id": "6811c773",
   "metadata": {
    "application/vnd.databricks.v1+cell": {
     "cellMetadata": {
      "byteLimit": 2048000,
      "rowLimit": 10000
     },
     "inputWidgets": {},
     "nuid": "543dd13e-2d83-41cc-957d-f8a5fddd8707",
     "showTitle": false,
     "title": ""
    },
    "execution": {
     "iopub.execute_input": "2024-06-20T09:42:09.527545Z",
     "iopub.status.busy": "2024-06-20T09:42:09.527074Z",
     "iopub.status.idle": "2024-06-20T09:42:09.555468Z",
     "shell.execute_reply": "2024-06-20T09:42:09.553759Z"
    },
    "papermill": {
     "duration": 0.087057,
     "end_time": "2024-06-20T09:42:09.559766",
     "exception": false,
     "start_time": "2024-06-20T09:42:09.472709",
     "status": "completed"
    },
    "tags": []
   },
   "outputs": [],
   "source": [
    "Creditcard=Creditcard.drop('Time')"
   ]
  },
  {
   "cell_type": "code",
   "execution_count": 17,
   "id": "b1a0418f",
   "metadata": {
    "application/vnd.databricks.v1+cell": {
     "cellMetadata": {
      "byteLimit": 2048000,
      "rowLimit": 10000
     },
     "inputWidgets": {},
     "nuid": "e5c0738c-9933-42ae-b8e7-185fa4b4230b",
     "showTitle": false,
     "title": ""
    },
    "execution": {
     "iopub.execute_input": "2024-06-20T09:42:09.692222Z",
     "iopub.status.busy": "2024-06-20T09:42:09.691770Z",
     "iopub.status.idle": "2024-06-20T09:42:10.175590Z",
     "shell.execute_reply": "2024-06-20T09:42:10.174240Z"
    },
    "papermill": {
     "duration": 0.54258,
     "end_time": "2024-06-20T09:42:10.179704",
     "exception": false,
     "start_time": "2024-06-20T09:42:09.637124",
     "status": "completed"
    },
    "tags": []
   },
   "outputs": [
    {
     "name": "stdout",
     "output_type": "stream",
     "text": [
      "+------------------+-------------------+----------------+------------------+-------------------+-------------------+-------------------+------------------+------------------+-------------------+------------------+------------------+------------------+------------------+------------------+------------------+------------------+-------------------+------------------+-------------------+--------------------+-------------------+------------------+------------------+------------------+------------------+--------------------+-------------------+------+-----+\n",
      "|                V1|                 V2|              V3|                V4|                 V5|                 V6|                 V7|                V8|                V9|                V10|               V11|               V12|               V13|               V14|               V15|               V16|               V17|                V18|               V19|                V20|                 V21|                V22|               V23|               V24|               V25|               V26|                 V27|                V28|Amount|Class|\n",
      "+------------------+-------------------+----------------+------------------+-------------------+-------------------+-------------------+------------------+------------------+-------------------+------------------+------------------+------------------+------------------+------------------+------------------+------------------+-------------------+------------------+-------------------+--------------------+-------------------+------------------+------------------+------------------+------------------+--------------------+-------------------+------+-----+\n",
      "|  -1.3598071336738|-0.0727811733098497|2.53634673796914|  1.37815522427443| -0.338320769942518|  0.462387777762292|  0.239598554061257|0.0986979012610507| 0.363786969611213| 0.0907941719789316|-0.551599533260813|-0.617800855762348|-0.991389847235408|-0.311169353699879|  1.46817697209427|-0.470400525259478| 0.207971241929242| 0.0257905801985591| 0.403992960255733|  0.251412098239705|  -0.018306777944153|  0.277837575558899|-0.110473910188767|0.0669280749146731| 0.128539358273528|-0.189114843888824|   0.133558376740387|-0.0210530534538215|149.62|    0|\n",
      "|  1.19185711131486|   0.26615071205963|0.16648011335321| 0.448154078460911| 0.0600176492822243|-0.0823608088155687|-0.0788029833323113|0.0851016549148104|-0.255425128109186| -0.166974414004614|  1.61272666105479|  1.06523531137287|  0.48909501589608|-0.143772296441519| 0.635558093258208| 0.463917041022171|-0.114804663102346| -0.183361270123994|-0.145783041325259|-0.0690831352230203|  -0.225775248033138| -0.638671952771851| 0.101288021253234|-0.339846475529127| 0.167170404418143| 0.125894532368176|-0.00898309914322813| 0.0147241691924927|  2.69|    0|\n",
      "| -1.35835406159823|  -1.34016307473609|1.77320934263119| 0.379779593034328| -0.503198133318193|   1.80049938079263|  0.791460956450422| 0.247675786588991| -1.51465432260583|  0.207642865216696| 0.624501459424895| 0.066083685268831| 0.717292731410831|-0.165945922763554|  2.34586494901581| -2.89008319444231|  1.10996937869599| -0.121359313195888| -2.26185709530414|  0.524979725224404|   0.247998153469754|  0.771679401917229| 0.909412262347719|-0.689280956490685|-0.327641833735251|-0.139096571514147| -0.0553527940384261|-0.0597518405929204|378.66|    0|\n",
      "|-0.966271711572087| -0.185226008082898|1.79299333957872|-0.863291275036453|-0.0103088796030823|   1.24720316752486|   0.23760893977178| 0.377435874652262| -1.38702406270197|-0.0549519224713749|-0.226487263835401| 0.178228225877303| 0.507756869957169| -0.28792374549456|-0.631418117709045|  -1.0596472454325|-0.684092786345479|   1.96577500349538|  -1.2326219700892| -0.208037781160366|  -0.108300452035545|0.00527359678253453|-0.190320518742841| -1.17557533186321| 0.647376034602038|-0.221928844458407|  0.0627228487293033| 0.0614576285006353| 123.5|    0|\n",
      "| -1.15823309349523|  0.877736754848451|  1.548717846511| 0.403033933955121| -0.407193377311653| 0.0959214624684256|  0.592940745385545|-0.270532677192282| 0.817739308235294|  0.753074431976354|-0.822842877946363|  0.53819555014995|   1.3458515932154| -1.11966983471731| 0.175121130008994|-0.451449182813529|-0.237033239362776|-0.0381947870352842| 0.803486924960175|  0.408542360392758|-0.00943069713232919|   0.79827849458971|-0.137458079619063| 0.141266983824769|-0.206009587619756| 0.502292224181569|   0.219422229513348|  0.215153147499206| 69.99|    0|\n",
      "+------------------+-------------------+----------------+------------------+-------------------+-------------------+-------------------+------------------+------------------+-------------------+------------------+------------------+------------------+------------------+------------------+------------------+------------------+-------------------+------------------+-------------------+--------------------+-------------------+------------------+------------------+------------------+------------------+--------------------+-------------------+------+-----+\n",
      "only showing top 5 rows\n",
      "\n"
     ]
    }
   ],
   "source": [
    "Creditcard.show(5)"
   ]
  },
  {
   "cell_type": "code",
   "execution_count": 18,
   "id": "7f27cfe5",
   "metadata": {
    "application/vnd.databricks.v1+cell": {
     "cellMetadata": {
      "byteLimit": 2048000,
      "rowLimit": 10000
     },
     "inputWidgets": {},
     "nuid": "ce441227-9703-4fb6-a05c-164fff7a44f1",
     "showTitle": false,
     "title": ""
    },
    "execution": {
     "iopub.execute_input": "2024-06-20T09:42:10.337030Z",
     "iopub.status.busy": "2024-06-20T09:42:10.336519Z",
     "iopub.status.idle": "2024-06-20T09:42:10.358527Z",
     "shell.execute_reply": "2024-06-20T09:42:10.357067Z"
    },
    "papermill": {
     "duration": 0.104834,
     "end_time": "2024-06-20T09:42:10.362402",
     "exception": false,
     "start_time": "2024-06-20T09:42:10.257568",
     "status": "completed"
    },
    "tags": []
   },
   "outputs": [],
   "source": [
    "Creditcard=Creditcard.withColumnRenamed('Class','LABEL')"
   ]
  },
  {
   "cell_type": "code",
   "execution_count": 19,
   "id": "07530472",
   "metadata": {
    "application/vnd.databricks.v1+cell": {
     "cellMetadata": {
      "byteLimit": 2048000,
      "rowLimit": 10000
     },
     "inputWidgets": {},
     "nuid": "1089130c-a5d9-47e7-ae85-7d6712a1885d",
     "showTitle": false,
     "title": ""
    },
    "execution": {
     "iopub.execute_input": "2024-06-20T09:42:10.505332Z",
     "iopub.status.busy": "2024-06-20T09:42:10.504814Z",
     "iopub.status.idle": "2024-06-20T09:42:10.519291Z",
     "shell.execute_reply": "2024-06-20T09:42:10.517592Z"
    },
    "papermill": {
     "duration": 0.078895,
     "end_time": "2024-06-20T09:42:10.522560",
     "exception": false,
     "start_time": "2024-06-20T09:42:10.443665",
     "status": "completed"
    },
    "tags": []
   },
   "outputs": [
    {
     "data": {
      "text/plain": [
       "['V1',\n",
       " 'V2',\n",
       " 'V3',\n",
       " 'V4',\n",
       " 'V5',\n",
       " 'V6',\n",
       " 'V7',\n",
       " 'V8',\n",
       " 'V9',\n",
       " 'V10',\n",
       " 'V11',\n",
       " 'V12',\n",
       " 'V13',\n",
       " 'V14',\n",
       " 'V15',\n",
       " 'V16',\n",
       " 'V17',\n",
       " 'V18',\n",
       " 'V19',\n",
       " 'V20',\n",
       " 'V21',\n",
       " 'V22',\n",
       " 'V23',\n",
       " 'V24',\n",
       " 'V25',\n",
       " 'V26',\n",
       " 'V27',\n",
       " 'V28',\n",
       " 'Amount',\n",
       " 'LABEL']"
      ]
     },
     "execution_count": 19,
     "metadata": {},
     "output_type": "execute_result"
    }
   ],
   "source": [
    "Creditcard.columns"
   ]
  },
  {
   "cell_type": "markdown",
   "id": "9b0c59c2",
   "metadata": {
    "application/vnd.databricks.v1+cell": {
     "cellMetadata": {},
     "inputWidgets": {},
     "nuid": "4f704957-d8fa-42d2-a872-c09d75d46e46",
     "showTitle": false,
     "title": ""
    },
    "papermill": {
     "duration": 0.056983,
     "end_time": "2024-06-20T09:42:10.634498",
     "exception": false,
     "start_time": "2024-06-20T09:42:10.577515",
     "status": "completed"
    },
    "tags": []
   },
   "source": [
    "## RDD Structure and parallesim"
   ]
  },
  {
   "cell_type": "code",
   "execution_count": 20,
   "id": "b4929728",
   "metadata": {
    "application/vnd.databricks.v1+cell": {
     "cellMetadata": {
      "byteLimit": 2048000,
      "rowLimit": 10000
     },
     "inputWidgets": {},
     "nuid": "5451b278-f26e-40f0-b581-50923fa3606f",
     "showTitle": false,
     "title": ""
    },
    "execution": {
     "iopub.execute_input": "2024-06-20T09:42:10.745120Z",
     "iopub.status.busy": "2024-06-20T09:42:10.744036Z",
     "iopub.status.idle": "2024-06-20T09:42:13.866518Z",
     "shell.execute_reply": "2024-06-20T09:42:13.864586Z"
    },
    "papermill": {
     "duration": 3.181201,
     "end_time": "2024-06-20T09:42:13.870535",
     "exception": false,
     "start_time": "2024-06-20T09:42:10.689334",
     "status": "completed"
    },
    "tags": []
   },
   "outputs": [
    {
     "name": "stderr",
     "output_type": "stream",
     "text": [
      "                                                                                \r"
     ]
    }
   ],
   "source": [
    "from pyspark.sql import SparkSession\n",
    "\n",
    "# # Create SparkSession\n",
    "# spark = SparkSession.builder \\\n",
    "#     .appName(\"CreditCardFraudDetection\") \\\n",
    "#     .getOrCreate()\n",
    "\n",
    "# Load data as DataFrame\n",
    "data_df = spark.read.csv(\"/kaggle/input/creditcardfraud/creditcard.csv\", header=True, inferSchema=True)\n",
    "\n",
    "# Filter out normal transactions (Class = 0)\n",
    "normal_transactions_df = data_df.filter(data_df['Class'] == \"0\")\n",
    "\n",
    "# Filter out fraudulent transactions (Class = 1)\n",
    "fraudulent_transactions_df = data_df.filter(data_df['Class'] == \"1\")\n"
   ]
  },
  {
   "cell_type": "code",
   "execution_count": 21,
   "id": "eaedcf9a",
   "metadata": {
    "application/vnd.databricks.v1+cell": {
     "cellMetadata": {
      "byteLimit": 2048000,
      "rowLimit": 10000
     },
     "inputWidgets": {},
     "nuid": "e8a7b203-2eed-4c37-beb3-cb4f2a3a1b6c",
     "showTitle": false,
     "title": ""
    },
    "execution": {
     "iopub.execute_input": "2024-06-20T09:42:14.001720Z",
     "iopub.status.busy": "2024-06-20T09:42:14.000606Z",
     "iopub.status.idle": "2024-06-20T09:42:16.019545Z",
     "shell.execute_reply": "2024-06-20T09:42:16.018356Z"
    },
    "papermill": {
     "duration": 2.078764,
     "end_time": "2024-06-20T09:42:16.025350",
     "exception": false,
     "start_time": "2024-06-20T09:42:13.946586",
     "status": "completed"
    },
    "tags": []
   },
   "outputs": [
    {
     "name": "stderr",
     "output_type": "stream",
     "text": [
      "[Stage 74:>                                                         (0 + 4) / 4]\r"
     ]
    },
    {
     "name": "stdout",
     "output_type": "stream",
     "text": [
      "Number of Normal Transactions: 284315\n",
      "Number of Fraudulent Transactions: 492\n"
     ]
    },
    {
     "name": "stderr",
     "output_type": "stream",
     "text": [
      "                                                                                \r"
     ]
    }
   ],
   "source": [
    "# Count the number of normal transactions\n",
    "num_normal_transactions = normal_transactions_df.count()\n",
    "\n",
    "# Count the number of fraudulent transactions\n",
    "num_fraudulent_transactions = fraudulent_transactions_df.count()\n",
    "\n",
    "print(\"Number of Normal Transactions:\", num_normal_transactions)\n",
    "print(\"Number of Fraudulent Transactions:\", num_fraudulent_transactions)"
   ]
  },
  {
   "cell_type": "markdown",
   "id": "2fec7f91",
   "metadata": {
    "application/vnd.databricks.v1+cell": {
     "cellMetadata": {},
     "inputWidgets": {},
     "nuid": "1f82cc75-1d54-4a9c-81bd-3aa8c9d72c10",
     "showTitle": false,
     "title": ""
    },
    "papermill": {
     "duration": 0.054731,
     "end_time": "2024-06-20T09:42:16.137549",
     "exception": false,
     "start_time": "2024-06-20T09:42:16.082818",
     "status": "completed"
    },
    "tags": []
   },
   "source": [
    "- We load the data from the CSV file into a DataFrame named `data_df`.\n",
    "\n",
    "- We use the filter method on the DataFrame to create two separate DataFrames: normal_transactions_df containing  normal transactions `(Class = 0)` and fraudulent_transactions_df containing fraudulent transactions `(Class = 1)`.\n",
    "\n",
    "- We count the number of transactions in each DataFrame using the count method.\n",
    "\n",
    "- Finally, we print the number of normal and fraudulent transactions."
   ]
  },
  {
   "cell_type": "code",
   "execution_count": 22,
   "id": "4840a742",
   "metadata": {
    "application/vnd.databricks.v1+cell": {
     "cellMetadata": {
      "byteLimit": 2048000,
      "rowLimit": 10000
     },
     "inputWidgets": {},
     "nuid": "1b076509-5d27-457f-9e80-d54b7f09e4ee",
     "showTitle": false,
     "title": ""
    },
    "execution": {
     "iopub.execute_input": "2024-06-20T09:42:16.246495Z",
     "iopub.status.busy": "2024-06-20T09:42:16.246080Z",
     "iopub.status.idle": "2024-06-20T09:42:18.524221Z",
     "shell.execute_reply": "2024-06-20T09:42:18.522585Z"
    },
    "papermill": {
     "duration": 2.338305,
     "end_time": "2024-06-20T09:42:18.528192",
     "exception": false,
     "start_time": "2024-06-20T09:42:16.189887",
     "status": "completed"
    },
    "tags": []
   },
   "outputs": [
    {
     "name": "stderr",
     "output_type": "stream",
     "text": [
      "[Stage 80:>                                                         (0 + 4) / 4]\r"
     ]
    },
    {
     "name": "stdout",
     "output_type": "stream",
     "text": [
      "Total Normal Amount: 25102462.0400059\n",
      "Total Fraudulent Amount: 60127.969999999994\n"
     ]
    },
    {
     "name": "stderr",
     "output_type": "stream",
     "text": [
      "                                                                                \r"
     ]
    }
   ],
   "source": [
    "# Sum transaction amounts for normal transactions\n",
    "total_normal_amount = data_df.filter(data_df['Class'] == 0).agg({'Amount': 'sum'}).collect()[0][0]\n",
    "\n",
    "# Sum transaction amounts for fraudulent transactions\n",
    "total_fraudulent_amount = data_df.filter(data_df['Class'] == 1).agg({'Amount': 'sum'}).collect()[0][0]\n",
    "\n",
    "print(\"Total Normal Amount:\", total_normal_amount)\n",
    "print(\"Total Fraudulent Amount:\", total_fraudulent_amount)"
   ]
  },
  {
   "cell_type": "markdown",
   "id": "273695af",
   "metadata": {
    "application/vnd.databricks.v1+cell": {
     "cellMetadata": {},
     "inputWidgets": {},
     "nuid": "6b5d4384-14b9-4bb1-8713-efa26c65e0bc",
     "showTitle": false,
     "title": ""
    },
    "papermill": {
     "duration": 0.053277,
     "end_time": "2024-06-20T09:42:18.639294",
     "exception": false,
     "start_time": "2024-06-20T09:42:18.586017",
     "status": "completed"
    },
    "tags": []
   },
   "source": [
    "- We map each transaction to a tuple containing the class label and 1.\n",
    "\n",
    "- We reduce the tuples by class label to calculate the count of each class.\n",
    "\n",
    "- We print the class counts.\n",
    "\n",
    "- We sum the transaction amounts for normal and fraudulent transactions separately using DataFrame operations agg.\n",
    "\n",
    "- Finally, we print the total amounts for normal and fraudulent transactions."
   ]
  },
  {
   "cell_type": "code",
   "execution_count": 23,
   "id": "24aae384",
   "metadata": {
    "application/vnd.databricks.v1+cell": {
     "cellMetadata": {
      "byteLimit": 2048000,
      "rowLimit": 10000
     },
     "inputWidgets": {},
     "nuid": "969ab4c0-ca68-46d6-bbdf-0beb1491b0d7",
     "showTitle": false,
     "title": ""
    },
    "execution": {
     "iopub.execute_input": "2024-06-20T09:42:18.751654Z",
     "iopub.status.busy": "2024-06-20T09:42:18.750956Z",
     "iopub.status.idle": "2024-06-20T09:42:25.688148Z",
     "shell.execute_reply": "2024-06-20T09:42:25.686938Z"
    },
    "papermill": {
     "duration": 6.998633,
     "end_time": "2024-06-20T09:42:25.694433",
     "exception": false,
     "start_time": "2024-06-20T09:42:18.695800",
     "status": "completed"
    },
    "tags": []
   },
   "outputs": [
    {
     "name": "stdout",
     "output_type": "stream",
     "text": [
      "Class Counts:\n"
     ]
    },
    {
     "name": "stderr",
     "output_type": "stream",
     "text": [
      "[Stage 83:>                                                         (0 + 4) / 4]\r"
     ]
    },
    {
     "name": "stdout",
     "output_type": "stream",
     "text": [
      "Class 0: 284315\n",
      "Class 1: 492\n"
     ]
    },
    {
     "name": "stderr",
     "output_type": "stream",
     "text": [
      "                                                                                \r"
     ]
    }
   ],
   "source": [
    "# Map: Extract class from each transaction\n",
    "class_counts = data_df.rdd.map(lambda row: (row['Class'], 1))\n",
    "\n",
    "# Reduce: Aggregate counts by class\n",
    "class_counts = class_counts.reduceByKey(lambda x, y: x + y)\n",
    "\n",
    "# Display class counts\n",
    "print(\"Class Counts:\")\n",
    "for class_label, count in class_counts.collect():\n",
    "    print(f\"Class {class_label}: {count}\")\n"
   ]
  },
  {
   "cell_type": "markdown",
   "id": "852ca550",
   "metadata": {
    "application/vnd.databricks.v1+cell": {
     "cellMetadata": {},
     "inputWidgets": {},
     "nuid": "b16a2f32-1982-4204-bf7f-e3510ff905bf",
     "showTitle": false,
     "title": ""
    },
    "papermill": {
     "duration": 0.077685,
     "end_time": "2024-06-20T09:42:25.855220",
     "exception": false,
     "start_time": "2024-06-20T09:42:25.777535",
     "status": "completed"
    },
    "tags": []
   },
   "source": [
    "## Monitoring a number of failed jobs and their names then tracking the runtime."
   ]
  },
  {
   "cell_type": "code",
   "execution_count": 24,
   "id": "2f154a01",
   "metadata": {
    "application/vnd.databricks.v1+cell": {
     "cellMetadata": {
      "byteLimit": 2048000,
      "rowLimit": 10000
     },
     "inputWidgets": {},
     "nuid": "e05ceba5-466c-41c5-98d7-b80cae448980",
     "showTitle": false,
     "title": ""
    },
    "execution": {
     "iopub.execute_input": "2024-06-20T09:42:26.003405Z",
     "iopub.status.busy": "2024-06-20T09:42:26.002922Z",
     "iopub.status.idle": "2024-06-20T09:42:26.023553Z",
     "shell.execute_reply": "2024-06-20T09:42:26.022072Z"
    },
    "papermill": {
     "duration": 0.091395,
     "end_time": "2024-06-20T09:42:26.026547",
     "exception": false,
     "start_time": "2024-06-20T09:42:25.935152",
     "status": "completed"
    },
    "tags": []
   },
   "outputs": [
    {
     "name": "stderr",
     "output_type": "stream",
     "text": [
      "24/06/20 09:42:26 WARN SparkSession: Using an existing Spark session; only runtime SQL configurations will take effect.\n"
     ]
    }
   ],
   "source": [
    "from pyspark.sql import SparkSession\n",
    "from pyspark.sql.functions import col\n",
    "import time\n",
    "\n",
    "# Create a Spark session\n",
    "spark = SparkSession.builder.appName(\"Fraud Detection\").getOrCreate()\n",
    "\n",
    "class JobMonitor:\n",
    "    def __init__(self):\n",
    "        self.failed_jobs = []\n",
    "        self.job_start_times = {}\n",
    "        self.job_end_times = {}\n",
    "\n",
    "    def job_start(self, job_id):\n",
    "        self.job_start_times[job_id] = time.time()\n",
    "\n",
    "    def job_end(self, job_id, success):\n",
    "        self.job_end_times[job_id] = time.time()\n",
    "        if not success:\n",
    "            self.failed_jobs.append(job_id)\n",
    "\n",
    "    def print_failed_jobs(self):\n",
    "        print(\"Failed Jobs and Their Runtimes:\")\n",
    "        for job_id in self.failed_jobs:\n",
    "            start_time = self.job_start_times.get(job_id, 0)\n",
    "            end_time = self.job_end_times.get(job_id, 0)\n",
    "            runtime = end_time - start_time\n",
    "            print(f\"Job ID: {job_id}, Runtime: {runtime:.2f} seconds\")\n"
   ]
  },
  {
   "cell_type": "markdown",
   "id": "5306b716",
   "metadata": {
    "application/vnd.databricks.v1+cell": {
     "cellMetadata": {},
     "inputWidgets": {},
     "nuid": "67706dc3-fedd-4311-8219-0a409d8f02b4",
     "showTitle": false,
     "title": ""
    },
    "papermill": {
     "duration": 0.055961,
     "end_time": "2024-06-20T09:42:26.139170",
     "exception": false,
     "start_time": "2024-06-20T09:42:26.083209",
     "status": "completed"
    },
    "tags": []
   },
   "source": [
    "- JobMonitor Class: Defines a class to monitor job execution.\n",
    "- Attributes:\n",
    "  - failed_jobs: A list to store the IDs of failed jobs.\n",
    "  - job_start_times: A dictionary to store the start time of each job.\n",
    "  - job_end_times: A dictionary to store the end time of each job.\n",
    "- Methods:\n",
    "  - job_start(job_id): Records the start time of a job.\n",
    "  - job_end(job_id, success): Records the end time of a job and logs if the job failed.\n",
    "  - print_failed_jobs(): Prints the IDs and runtimes of failed jobs."
   ]
  },
  {
   "cell_type": "code",
   "execution_count": 25,
   "id": "f76338cd",
   "metadata": {
    "application/vnd.databricks.v1+cell": {
     "cellMetadata": {
      "byteLimit": 2048000,
      "rowLimit": 10000
     },
     "inputWidgets": {},
     "nuid": "842af9ed-86db-4e87-b833-9efaba1a1226",
     "showTitle": false,
     "title": ""
    },
    "execution": {
     "iopub.execute_input": "2024-06-20T09:42:26.255885Z",
     "iopub.status.busy": "2024-06-20T09:42:26.255405Z",
     "iopub.status.idle": "2024-06-20T09:42:26.264599Z",
     "shell.execute_reply": "2024-06-20T09:42:26.263091Z"
    },
    "papermill": {
     "duration": 0.070886,
     "end_time": "2024-06-20T09:42:26.267213",
     "exception": false,
     "start_time": "2024-06-20T09:42:26.196327",
     "status": "completed"
    },
    "tags": []
   },
   "outputs": [],
   "source": [
    "# Initialize the job monitor\n",
    "job_monitor = JobMonitor()\n",
    "\n",
    "# Function to simulate job execution and tracking\n",
    "def run_job(df, job_id, simulate_failure=False):\n",
    "    job_monitor.job_start(job_id)\n",
    "    try:\n",
    "        if simulate_failure:\n",
    "            # Intentionally causing an error for testing\n",
    "            df.select(col(\"non_existent_column\")).show()\n",
    "        else:\n",
    "            # A valid operation\n",
    "            df.show()\n",
    "        job_monitor.job_end(job_id, success=True)\n",
    "    except Exception as e:\n",
    "        job_monitor.job_end(job_id, success=False)\n",
    "        print(f\"Job ID: {job_id} failed with exception: {e}\")\n"
   ]
  },
  {
   "cell_type": "markdown",
   "id": "80f95f45",
   "metadata": {
    "application/vnd.databricks.v1+cell": {
     "cellMetadata": {},
     "inputWidgets": {},
     "nuid": "b54de258-16da-493e-aa4d-bda71ce87ae8",
     "showTitle": false,
     "title": ""
    },
    "papermill": {
     "duration": 0.056308,
     "end_time": "2024-06-20T09:42:26.379480",
     "exception": false,
     "start_time": "2024-06-20T09:42:26.323172",
     "status": "completed"
    },
    "tags": []
   },
   "source": [
    "- JobMonitor Instance: Create an instance of JobMonitor.\n",
    "- run_job Function: Defines a function to simulate job execution.\n",
    "  - Parameters:\n",
    "    - df: The DataFrame on which operations are performed.\n",
    "    - job_id: A unique identifier for the job.\n",
    "    - simulate_failure: A flag to simulate job failure.\n",
    "  - Execution Flow:\n",
    "    - Starts the job and records the start time.\n",
    "    - If simulate_failure is True, attempts to select a non-existent column, causing an error.\n",
    "    - Otherwise, performs a valid DataFrame operation (showing the DataFrame).\n",
    "    - Ends the job and records the end time, logging success or failure."
   ]
  },
  {
   "cell_type": "code",
   "execution_count": 26,
   "id": "80abf7b0",
   "metadata": {
    "application/vnd.databricks.v1+cell": {
     "cellMetadata": {
      "byteLimit": 2048000,
      "rowLimit": 10000
     },
     "inputWidgets": {},
     "nuid": "782ae95d-d779-4438-a668-4e80b0c3db4b",
     "showTitle": false,
     "title": ""
    },
    "execution": {
     "iopub.execute_input": "2024-06-20T09:42:26.492524Z",
     "iopub.status.busy": "2024-06-20T09:42:26.492103Z",
     "iopub.status.idle": "2024-06-20T09:42:27.417571Z",
     "shell.execute_reply": "2024-06-20T09:42:27.415931Z"
    },
    "papermill": {
     "duration": 0.985067,
     "end_time": "2024-06-20T09:42:27.420080",
     "exception": false,
     "start_time": "2024-06-20T09:42:26.435013",
     "status": "completed"
    },
    "tags": []
   },
   "outputs": [
    {
     "name": "stdout",
     "output_type": "stream",
     "text": [
      "+---+-------+\n",
      "| id|   name|\n",
      "+---+-------+\n",
      "|  3|Charlie|\n",
      "+---+-------+\n",
      "\n",
      "Job ID: 2 failed with exception: [UNRESOLVED_COLUMN.WITH_SUGGESTION] A column or function parameter with name `non_existent_column` cannot be resolved. Did you mean one of the following? [`name`, `id`].;\n",
      "'Project ['non_existent_column]\n",
      "+- LogicalRDD [id#1740L, name#1741], false\n",
      "\n",
      "Failed Jobs and Their Runtimes:\n",
      "Job ID: 2, Runtime: 0.06 seconds\n"
     ]
    }
   ],
   "source": [
    "# Sample DataFrame\n",
    "data = [(1, \"Alice\"), (2, \"Bob\"), (3, \"Charlie\")]\n",
    "df = spark.createDataFrame(data, [\"id\", \"name\"])\n",
    "\n",
    "# Run jobs\n",
    "run_job(df.filter(col(\"id\") > 2), job_id=1)\n",
    "run_job(df, job_id=2, simulate_failure=True)  # This job is designed to fail\n",
    "\n",
    "# Print failed jobs information\n",
    "job_monitor.print_failed_jobs()\n"
   ]
  },
  {
   "cell_type": "markdown",
   "id": "49a8733c",
   "metadata": {
    "application/vnd.databricks.v1+cell": {
     "cellMetadata": {},
     "inputWidgets": {},
     "nuid": "44619d4e-5cb5-442c-bb53-af76ceb19214",
     "showTitle": false,
     "title": ""
    },
    "papermill": {
     "duration": 0.05652,
     "end_time": "2024-06-20T09:42:27.532699",
     "exception": false,
     "start_time": "2024-06-20T09:42:27.476179",
     "status": "completed"
    },
    "tags": []
   },
   "source": [
    "- Sample DataFrame: Create a small DataFrame with sample data.\n",
    "- Run Jobs: Execute two jobs:\n",
    "  - The first job filters the DataFrame where id > 2 and displays the result.\n",
    "  - The second job simulates failure by attempting to select a non-existent column.\n",
    "- Print Failed Jobs: Prints the IDs and runtimes of failed jobs."
   ]
  },
  {
   "cell_type": "code",
   "execution_count": 27,
   "id": "a21ac550",
   "metadata": {
    "application/vnd.databricks.v1+cell": {
     "cellMetadata": {
      "byteLimit": 2048000,
      "rowLimit": 10000
     },
     "inputWidgets": {},
     "nuid": "cfb1a56d-e0ad-4099-b8c7-83423a3e60e8",
     "showTitle": false,
     "title": ""
    },
    "execution": {
     "iopub.execute_input": "2024-06-20T09:42:27.647280Z",
     "iopub.status.busy": "2024-06-20T09:42:27.646802Z",
     "iopub.status.idle": "2024-06-20T09:42:27.792006Z",
     "shell.execute_reply": "2024-06-20T09:42:27.789607Z"
    },
    "papermill": {
     "duration": 0.206386,
     "end_time": "2024-06-20T09:42:27.795356",
     "exception": false,
     "start_time": "2024-06-20T09:42:27.588970",
     "status": "completed"
    },
    "tags": []
   },
   "outputs": [
    {
     "name": "stdout",
     "output_type": "stream",
     "text": [
      "+-----+\n",
      "|Class|\n",
      "+-----+\n",
      "|    0|\n",
      "|    0|\n",
      "|    0|\n",
      "|    0|\n",
      "|    0|\n",
      "|    0|\n",
      "|    0|\n",
      "|    0|\n",
      "|    0|\n",
      "|    0|\n",
      "|    0|\n",
      "|    0|\n",
      "|    0|\n",
      "|    0|\n",
      "|    0|\n",
      "|    0|\n",
      "|    0|\n",
      "|    0|\n",
      "|    0|\n",
      "|    0|\n",
      "+-----+\n",
      "only showing top 20 rows\n",
      "\n"
     ]
    }
   ],
   "source": [
    "# Show the first few rows of the DataFrame to inspect the values in the 'Class' column\n",
    "data_df.select('Class').show()"
   ]
  },
  {
   "cell_type": "code",
   "execution_count": 28,
   "id": "45a37fc9",
   "metadata": {
    "application/vnd.databricks.v1+cell": {
     "cellMetadata": {
      "byteLimit": 2048000,
      "rowLimit": 10000
     },
     "inputWidgets": {},
     "nuid": "85490c90-1ffe-476c-8e20-5a0f15fecfff",
     "showTitle": false,
     "title": ""
    },
    "execution": {
     "iopub.execute_input": "2024-06-20T09:42:27.916157Z",
     "iopub.status.busy": "2024-06-20T09:42:27.915601Z",
     "iopub.status.idle": "2024-06-20T09:42:27.925975Z",
     "shell.execute_reply": "2024-06-20T09:42:27.924731Z"
    },
    "papermill": {
     "duration": 0.070599,
     "end_time": "2024-06-20T09:42:27.929526",
     "exception": false,
     "start_time": "2024-06-20T09:42:27.858927",
     "status": "completed"
    },
    "tags": []
   },
   "outputs": [],
   "source": [
    "Creditcard=Creditcard.withColumnRenamed('Class','LABEL')"
   ]
  },
  {
   "cell_type": "code",
   "execution_count": 29,
   "id": "85714475",
   "metadata": {
    "application/vnd.databricks.v1+cell": {
     "cellMetadata": {
      "byteLimit": 2048000,
      "rowLimit": 10000
     },
     "inputWidgets": {},
     "nuid": "16fb675e-97b1-45da-acdf-f9c121efc1f2",
     "showTitle": false,
     "title": ""
    },
    "execution": {
     "iopub.execute_input": "2024-06-20T09:42:28.043335Z",
     "iopub.status.busy": "2024-06-20T09:42:28.042871Z",
     "iopub.status.idle": "2024-06-20T09:42:28.054196Z",
     "shell.execute_reply": "2024-06-20T09:42:28.052361Z"
    },
    "papermill": {
     "duration": 0.072252,
     "end_time": "2024-06-20T09:42:28.058405",
     "exception": false,
     "start_time": "2024-06-20T09:42:27.986153",
     "status": "completed"
    },
    "tags": []
   },
   "outputs": [
    {
     "data": {
      "text/plain": [
       "['V1',\n",
       " 'V2',\n",
       " 'V3',\n",
       " 'V4',\n",
       " 'V5',\n",
       " 'V6',\n",
       " 'V7',\n",
       " 'V8',\n",
       " 'V9',\n",
       " 'V10',\n",
       " 'V11',\n",
       " 'V12',\n",
       " 'V13',\n",
       " 'V14',\n",
       " 'V15',\n",
       " 'V16',\n",
       " 'V17',\n",
       " 'V18',\n",
       " 'V19',\n",
       " 'V20',\n",
       " 'V21',\n",
       " 'V22',\n",
       " 'V23',\n",
       " 'V24',\n",
       " 'V25',\n",
       " 'V26',\n",
       " 'V27',\n",
       " 'V28',\n",
       " 'Amount',\n",
       " 'LABEL']"
      ]
     },
     "execution_count": 29,
     "metadata": {},
     "output_type": "execute_result"
    }
   ],
   "source": [
    "Creditcard.columns"
   ]
  },
  {
   "cell_type": "code",
   "execution_count": 30,
   "id": "db0f0977",
   "metadata": {
    "application/vnd.databricks.v1+cell": {
     "cellMetadata": {
      "byteLimit": 2048000,
      "rowLimit": 10000
     },
     "inputWidgets": {},
     "nuid": "a62ab321-5c01-4430-bf0d-b0b4f826b254",
     "showTitle": false,
     "title": ""
    },
    "execution": {
     "iopub.execute_input": "2024-06-20T09:42:28.193240Z",
     "iopub.status.busy": "2024-06-20T09:42:28.191912Z",
     "iopub.status.idle": "2024-06-20T09:42:28.199147Z",
     "shell.execute_reply": "2024-06-20T09:42:28.197825Z"
    },
    "papermill": {
     "duration": 0.072844,
     "end_time": "2024-06-20T09:42:28.202364",
     "exception": false,
     "start_time": "2024-06-20T09:42:28.129520",
     "status": "completed"
    },
    "tags": []
   },
   "outputs": [],
   "source": [
    "Features_List = ['V1', 'V2', 'V3', 'V4', 'V5', 'V6', 'V7','V8', 'V9','V10','V11', 'V12', 'V13', 'V14', 'V15', 'V16', 'V17','V18', 'V19', 'Amount','LABEL']"
   ]
  },
  {
   "cell_type": "code",
   "execution_count": 31,
   "id": "d2deaac8",
   "metadata": {
    "application/vnd.databricks.v1+cell": {
     "cellMetadata": {
      "byteLimit": 2048000,
      "rowLimit": 10000
     },
     "inputWidgets": {},
     "nuid": "8bd40b3d-220a-4b53-8410-d4caa8199777",
     "showTitle": false,
     "title": ""
    },
    "execution": {
     "iopub.execute_input": "2024-06-20T09:42:28.350945Z",
     "iopub.status.busy": "2024-06-20T09:42:28.350276Z",
     "iopub.status.idle": "2024-06-20T09:42:28.925210Z",
     "shell.execute_reply": "2024-06-20T09:42:28.923475Z"
    },
    "papermill": {
     "duration": 0.657569,
     "end_time": "2024-06-20T09:42:28.928735",
     "exception": false,
     "start_time": "2024-06-20T09:42:28.271166",
     "status": "completed"
    },
    "tags": []
   },
   "outputs": [],
   "source": [
    "for columns in Features_List:\n",
    "     Creditcard= Creditcard.withColumn(columns, Creditcard[columns].cast(DoubleType()))"
   ]
  },
  {
   "cell_type": "code",
   "execution_count": 32,
   "id": "af92a4bb",
   "metadata": {
    "application/vnd.databricks.v1+cell": {
     "cellMetadata": {
      "byteLimit": 2048000,
      "rowLimit": 10000
     },
     "inputWidgets": {},
     "nuid": "63a6673b-8a26-4f4e-bed5-f52f57cd6362",
     "showTitle": false,
     "title": ""
    },
    "execution": {
     "iopub.execute_input": "2024-06-20T09:42:29.047390Z",
     "iopub.status.busy": "2024-06-20T09:42:29.046926Z",
     "iopub.status.idle": "2024-06-20T09:42:29.057012Z",
     "shell.execute_reply": "2024-06-20T09:42:29.055467Z"
    },
    "papermill": {
     "duration": 0.074072,
     "end_time": "2024-06-20T09:42:29.060289",
     "exception": false,
     "start_time": "2024-06-20T09:42:28.986217",
     "status": "completed"
    },
    "tags": []
   },
   "outputs": [
    {
     "name": "stdout",
     "output_type": "stream",
     "text": [
      "root\n",
      " |-- V1: double (nullable = true)\n",
      " |-- V2: double (nullable = true)\n",
      " |-- V3: double (nullable = true)\n",
      " |-- V4: double (nullable = true)\n",
      " |-- V5: double (nullable = true)\n",
      " |-- V6: double (nullable = true)\n",
      " |-- V7: double (nullable = true)\n",
      " |-- V8: double (nullable = true)\n",
      " |-- V9: double (nullable = true)\n",
      " |-- V10: double (nullable = true)\n",
      " |-- V11: double (nullable = true)\n",
      " |-- V12: double (nullable = true)\n",
      " |-- V13: double (nullable = true)\n",
      " |-- V14: double (nullable = true)\n",
      " |-- V15: double (nullable = true)\n",
      " |-- V16: double (nullable = true)\n",
      " |-- V17: double (nullable = true)\n",
      " |-- V18: double (nullable = true)\n",
      " |-- V19: double (nullable = true)\n",
      " |-- V20: double (nullable = true)\n",
      " |-- V21: double (nullable = true)\n",
      " |-- V22: double (nullable = true)\n",
      " |-- V23: double (nullable = true)\n",
      " |-- V24: double (nullable = true)\n",
      " |-- V25: double (nullable = true)\n",
      " |-- V26: double (nullable = true)\n",
      " |-- V27: double (nullable = true)\n",
      " |-- V28: double (nullable = true)\n",
      " |-- Amount: double (nullable = true)\n",
      " |-- LABEL: double (nullable = true)\n",
      "\n"
     ]
    }
   ],
   "source": [
    "Creditcard.printSchema()"
   ]
  },
  {
   "cell_type": "code",
   "execution_count": 33,
   "id": "b97a5334",
   "metadata": {
    "application/vnd.databricks.v1+cell": {
     "cellMetadata": {
      "byteLimit": 2048000,
      "rowLimit": 10000
     },
     "inputWidgets": {},
     "nuid": "4e11380a-11c0-4dbf-8ad5-de6dfecb85bd",
     "showTitle": false,
     "title": ""
    },
    "execution": {
     "iopub.execute_input": "2024-06-20T09:42:29.173536Z",
     "iopub.status.busy": "2024-06-20T09:42:29.173046Z",
     "iopub.status.idle": "2024-06-20T09:42:29.387572Z",
     "shell.execute_reply": "2024-06-20T09:42:29.386018Z"
    },
    "papermill": {
     "duration": 0.275397,
     "end_time": "2024-06-20T09:42:29.391655",
     "exception": false,
     "start_time": "2024-06-20T09:42:29.116258",
     "status": "completed"
    },
    "tags": []
   },
   "outputs": [],
   "source": [
    "assembler = VectorAssembler(inputCols = Features_List,outputCol = 'feature_vector')\n",
    "dataframe = assembler.transform(Creditcard) "
   ]
  },
  {
   "cell_type": "code",
   "execution_count": 34,
   "id": "962a5751",
   "metadata": {
    "application/vnd.databricks.v1+cell": {
     "cellMetadata": {
      "byteLimit": 2048000,
      "rowLimit": 10000
     },
     "inputWidgets": {},
     "nuid": "66e723f6-c5e4-4af2-8de4-9e6db417726b",
     "showTitle": false,
     "title": ""
    },
    "execution": {
     "iopub.execute_input": "2024-06-20T09:42:29.510481Z",
     "iopub.status.busy": "2024-06-20T09:42:29.510010Z",
     "iopub.status.idle": "2024-06-20T09:42:30.238722Z",
     "shell.execute_reply": "2024-06-20T09:42:30.237529Z"
    },
    "papermill": {
     "duration": 0.79457,
     "end_time": "2024-06-20T09:42:30.245218",
     "exception": false,
     "start_time": "2024-06-20T09:42:29.450648",
     "status": "completed"
    },
    "tags": []
   },
   "outputs": [
    {
     "name": "stdout",
     "output_type": "stream",
     "text": [
      "+------------------+-------------------+----------------+------------------+-------------------+-------------------+-------------------+------------------+------------------+-------------------+------------------+------------------+------------------+------------------+------------------+------------------+------------------+-------------------+------------------+-------------------+--------------------+-------------------+------------------+------------------+------------------+------------------+--------------------+-------------------+------+-----+--------------------+\n",
      "|                V1|                 V2|              V3|                V4|                 V5|                 V6|                 V7|                V8|                V9|                V10|               V11|               V12|               V13|               V14|               V15|               V16|               V17|                V18|               V19|                V20|                 V21|                V22|               V23|               V24|               V25|               V26|                 V27|                V28|Amount|LABEL|      feature_vector|\n",
      "+------------------+-------------------+----------------+------------------+-------------------+-------------------+-------------------+------------------+------------------+-------------------+------------------+------------------+------------------+------------------+------------------+------------------+------------------+-------------------+------------------+-------------------+--------------------+-------------------+------------------+------------------+------------------+------------------+--------------------+-------------------+------+-----+--------------------+\n",
      "|  -1.3598071336738|-0.0727811733098497|2.53634673796914|  1.37815522427443| -0.338320769942518|  0.462387777762292|  0.239598554061257|0.0986979012610507| 0.363786969611213| 0.0907941719789316|-0.551599533260813|-0.617800855762348|-0.991389847235408|-0.311169353699879|  1.46817697209427|-0.470400525259478| 0.207971241929242| 0.0257905801985591| 0.403992960255733|  0.251412098239705|  -0.018306777944153|  0.277837575558899|-0.110473910188767|0.0669280749146731| 0.128539358273528|-0.189114843888824|   0.133558376740387|-0.0210530534538215|149.62|  0.0|[-1.3598071336738...|\n",
      "|  1.19185711131486|   0.26615071205963|0.16648011335321| 0.448154078460911| 0.0600176492822243|-0.0823608088155687|-0.0788029833323113|0.0851016549148104|-0.255425128109186| -0.166974414004614|  1.61272666105479|  1.06523531137287|  0.48909501589608|-0.143772296441519| 0.635558093258208| 0.463917041022171|-0.114804663102346| -0.183361270123994|-0.145783041325259|-0.0690831352230203|  -0.225775248033138| -0.638671952771851| 0.101288021253234|-0.339846475529127| 0.167170404418143| 0.125894532368176|-0.00898309914322813| 0.0147241691924927|  2.69|  0.0|[1.19185711131486...|\n",
      "| -1.35835406159823|  -1.34016307473609|1.77320934263119| 0.379779593034328| -0.503198133318193|   1.80049938079263|  0.791460956450422| 0.247675786588991| -1.51465432260583|  0.207642865216696| 0.624501459424895| 0.066083685268831| 0.717292731410831|-0.165945922763554|  2.34586494901581| -2.89008319444231|  1.10996937869599| -0.121359313195888| -2.26185709530414|  0.524979725224404|   0.247998153469754|  0.771679401917229| 0.909412262347719|-0.689280956490685|-0.327641833735251|-0.139096571514147| -0.0553527940384261|-0.0597518405929204|378.66|  0.0|[-1.3583540615982...|\n",
      "|-0.966271711572087| -0.185226008082898|1.79299333957872|-0.863291275036453|-0.0103088796030823|   1.24720316752486|   0.23760893977178| 0.377435874652262| -1.38702406270197|-0.0549519224713749|-0.226487263835401| 0.178228225877303| 0.507756869957169| -0.28792374549456|-0.631418117709045|  -1.0596472454325|-0.684092786345479|   1.96577500349538|  -1.2326219700892| -0.208037781160366|  -0.108300452035545|0.00527359678253453|-0.190320518742841| -1.17557533186321| 0.647376034602038|-0.221928844458407|  0.0627228487293033| 0.0614576285006353| 123.5|  0.0|[-0.9662717115720...|\n",
      "| -1.15823309349523|  0.877736754848451|  1.548717846511| 0.403033933955121| -0.407193377311653| 0.0959214624684256|  0.592940745385545|-0.270532677192282| 0.817739308235294|  0.753074431976354|-0.822842877946363|  0.53819555014995|   1.3458515932154| -1.11966983471731| 0.175121130008994|-0.451449182813529|-0.237033239362776|-0.0381947870352842| 0.803486924960175|  0.408542360392758|-0.00943069713232919|   0.79827849458971|-0.137458079619063| 0.141266983824769|-0.206009587619756| 0.502292224181569|   0.219422229513348|  0.215153147499206| 69.99|  0.0|[-1.1582330934952...|\n",
      "+------------------+-------------------+----------------+------------------+-------------------+-------------------+-------------------+------------------+------------------+-------------------+------------------+------------------+------------------+------------------+------------------+------------------+------------------+-------------------+------------------+-------------------+--------------------+-------------------+------------------+------------------+------------------+------------------+--------------------+-------------------+------+-----+--------------------+\n",
      "only showing top 5 rows\n",
      "\n"
     ]
    }
   ],
   "source": [
    "dataframe.show(5)"
   ]
  },
  {
   "cell_type": "code",
   "execution_count": 35,
   "id": "6b58726f",
   "metadata": {
    "application/vnd.databricks.v1+cell": {
     "cellMetadata": {
      "byteLimit": 2048000,
      "rowLimit": 10000
     },
     "inputWidgets": {},
     "nuid": "44518334-d9b9-4b82-a6bf-f3dbf6475dba",
     "showTitle": false,
     "title": ""
    },
    "execution": {
     "iopub.execute_input": "2024-06-20T09:42:30.361566Z",
     "iopub.status.busy": "2024-06-20T09:42:30.361157Z",
     "iopub.status.idle": "2024-06-20T09:42:30.404732Z",
     "shell.execute_reply": "2024-06-20T09:42:30.403177Z"
    },
    "papermill": {
     "duration": 0.105113,
     "end_time": "2024-06-20T09:42:30.407773",
     "exception": false,
     "start_time": "2024-06-20T09:42:30.302660",
     "status": "completed"
    },
    "tags": []
   },
   "outputs": [],
   "source": [
    "df_test, df_train = dataframe.randomSplit([0.3, 0.7], seed = 123)"
   ]
  },
  {
   "cell_type": "code",
   "execution_count": 36,
   "id": "96fccd2e",
   "metadata": {
    "application/vnd.databricks.v1+cell": {
     "cellMetadata": {
      "byteLimit": 2048000,
      "rowLimit": 10000
     },
     "inputWidgets": {},
     "nuid": "a13aa13f-317d-401a-804b-920ee47e6d81",
     "showTitle": false,
     "title": ""
    },
    "execution": {
     "iopub.execute_input": "2024-06-20T09:42:30.521774Z",
     "iopub.status.busy": "2024-06-20T09:42:30.520675Z",
     "iopub.status.idle": "2024-06-20T09:42:35.056878Z",
     "shell.execute_reply": "2024-06-20T09:42:35.055670Z"
    },
    "papermill": {
     "duration": 4.596858,
     "end_time": "2024-06-20T09:42:35.060693",
     "exception": false,
     "start_time": "2024-06-20T09:42:30.463835",
     "status": "completed"
    },
    "tags": []
   },
   "outputs": [
    {
     "name": "stderr",
     "output_type": "stream",
     "text": [
      "                                                                                \r"
     ]
    },
    {
     "data": {
      "text/plain": [
       "85760"
      ]
     },
     "execution_count": 36,
     "metadata": {},
     "output_type": "execute_result"
    }
   ],
   "source": [
    "df_test.count()"
   ]
  },
  {
   "cell_type": "code",
   "execution_count": 37,
   "id": "a7e1348c",
   "metadata": {
    "application/vnd.databricks.v1+cell": {
     "cellMetadata": {
      "byteLimit": 2048000,
      "rowLimit": 10000
     },
     "inputWidgets": {},
     "nuid": "a1d98bc4-53a4-4f99-8f91-04c806a0f581",
     "showTitle": false,
     "title": ""
    },
    "execution": {
     "iopub.execute_input": "2024-06-20T09:42:35.192616Z",
     "iopub.status.busy": "2024-06-20T09:42:35.192107Z",
     "iopub.status.idle": "2024-06-20T09:42:38.893424Z",
     "shell.execute_reply": "2024-06-20T09:42:38.892236Z"
    },
    "papermill": {
     "duration": 3.763208,
     "end_time": "2024-06-20T09:42:38.897769",
     "exception": false,
     "start_time": "2024-06-20T09:42:35.134561",
     "status": "completed"
    },
    "tags": []
   },
   "outputs": [
    {
     "name": "stderr",
     "output_type": "stream",
     "text": [
      "                                                                                \r"
     ]
    },
    {
     "data": {
      "text/plain": [
       "199047"
      ]
     },
     "execution_count": 37,
     "metadata": {},
     "output_type": "execute_result"
    }
   ],
   "source": [
    "df_train.count()"
   ]
  },
  {
   "cell_type": "markdown",
   "id": "9bb12f91",
   "metadata": {
    "application/vnd.databricks.v1+cell": {
     "cellMetadata": {},
     "inputWidgets": {},
     "nuid": "09224852-56a6-4b5d-8d68-858f5223d93a",
     "showTitle": false,
     "title": ""
    },
    "papermill": {
     "duration": 0.064293,
     "end_time": "2024-06-20T09:42:39.026828",
     "exception": false,
     "start_time": "2024-06-20T09:42:38.962535",
     "status": "completed"
    },
    "tags": []
   },
   "source": [
    "<a id=\"model\"></a>\n",
    "## Modeling\n",
    "\n",
    "Before we begin generating various predictive models from our Binary Classification problem it is important to discuss how we can assess model performance. [Amazon Machine Learning Developer Guide](https://docs.aws.amazon.com/machine-learning/latest/dg/binary-classification.html) indicates \"typical metrics are accuracy (ACC), precision, recall, false positive rate, and F1-measure\". \n",
    "\n",
    "These evaluation metrics are calculated from four basic combinations of actual data cateogry and assigned category:\n",
    "* **True Positive (TP)** - correct positive assignment\n",
    "* **True Negative (TN)** - correct negative assignment\n",
    "* **False Positive (FP)**  \\[Type I Error\\] - incorrect positive assignment   \n",
    "* **False Negative (FN)**  \\[Type II Error\\] - incorrect negative assignment    \n",
    "\n",
    "A confusion matrix, also known as an error matrix, is a 2x2 table that reflects these assignments. Each row of the matrix represents the instances in an actual class while each column represents the instances in a predicted class (or vice versa)\n",
    "<p></p>\n",
    "\n",
    "<img src=\"https://2.bp.blogspot.com/-EvSXDotTOwc/XMfeOGZ-CVI/AAAAAAAAEiE/oePFfvhfOQM11dgRn9FkPxlegCXbgOF4QCLcBGAs/s1600/confusionMatrxiUpdated.jpg\" />\n",
    "\n",
    "\n",
    "Accuracy (ACC) is the fraction of correct assignment (TP + TN)/(TP + TN + FP + FN), precision is the fraction of TP/(TP + FP), recall a.k.a. sensitivity is the fraction TP/(TP + FN), false positive rate is FP/(TN + FP), and finally F1-measure or F1-score is the \"harmonic mean of precision and recall\"\n",
    "\n",
    "<p><center>$\\normalsize F_1= \\frac{2}{recall^{-1} + precision^{-1}} = 2  \\frac{precision * recall}{precision + recall}=\\frac{TP}{TP + \\frac{1}{2}(FP + FN)}$</center></p>\n",
    "\n",
    "Depending on the use case one might be more interested in a model that performs well for a specific metric or subset of metrics over others. For credit card fraud it is important that we have both high precision and high recall. F1-measure is often considered to be the most relevant measure in fraud detection due to its combination of of precision and recall into a single metric. Now that we know we need to evaluate our models to favor high recall or high sensitivity we need to split our data into train and test sets."
   ]
  },
  {
   "cell_type": "markdown",
   "id": "7f5aa600",
   "metadata": {
    "application/vnd.databricks.v1+cell": {
     "cellMetadata": {},
     "inputWidgets": {},
     "nuid": "afd9c2f4-d55f-4eab-8f45-8c8958d261bf",
     "showTitle": false,
     "title": ""
    },
    "papermill": {
     "duration": 0.056216,
     "end_time": "2024-06-20T09:42:39.141487",
     "exception": false,
     "start_time": "2024-06-20T09:42:39.085271",
     "status": "completed"
    },
    "tags": []
   },
   "source": [
    "# Apply Machine Learning Classification Algorithms on the Dataset and Compare their Accuracy."
   ]
  },
  {
   "cell_type": "markdown",
   "id": "040bfc8e",
   "metadata": {
    "application/vnd.databricks.v1+cell": {
     "cellMetadata": {},
     "inputWidgets": {},
     "nuid": "741a7f0a-9e9e-4b87-99c3-e7f939802f9c",
     "showTitle": false,
     "title": ""
    },
    "papermill": {
     "duration": 0.056959,
     "end_time": "2024-06-20T09:42:39.254484",
     "exception": false,
     "start_time": "2024-06-20T09:42:39.197525",
     "status": "completed"
    },
    "tags": []
   },
   "source": [
    "### Decision Trees"
   ]
  },
  {
   "cell_type": "code",
   "execution_count": 38,
   "id": "01a0e78c",
   "metadata": {
    "application/vnd.databricks.v1+cell": {
     "cellMetadata": {
      "byteLimit": 2048000,
      "rowLimit": 10000
     },
     "inputWidgets": {},
     "nuid": "f13a0a05-4e0b-45b6-83ab-d2b4286d018f",
     "showTitle": false,
     "title": ""
    },
    "execution": {
     "iopub.execute_input": "2024-06-20T09:42:39.372230Z",
     "iopub.status.busy": "2024-06-20T09:42:39.370941Z",
     "iopub.status.idle": "2024-06-20T09:42:58.342171Z",
     "shell.execute_reply": "2024-06-20T09:42:58.339561Z"
    },
    "papermill": {
     "duration": 19.036369,
     "end_time": "2024-06-20T09:42:58.348565",
     "exception": false,
     "start_time": "2024-06-20T09:42:39.312196",
     "status": "completed"
    },
    "tags": []
   },
   "outputs": [
    {
     "name": "stderr",
     "output_type": "stream",
     "text": [
      "                                                                                \r"
     ]
    }
   ],
   "source": [
    "Decision_Tree_Classifier = DecisionTreeClassifier(labelCol = 'LABEL', featuresCol = 'feature_vector')\n",
    "Decision_Tree_Model = Decision_Tree_Classifier.fit(df_train)"
   ]
  },
  {
   "cell_type": "code",
   "execution_count": 39,
   "id": "358ddc5e",
   "metadata": {
    "application/vnd.databricks.v1+cell": {
     "cellMetadata": {
      "byteLimit": 2048000,
      "rowLimit": 10000
     },
     "inputWidgets": {},
     "nuid": "5ab0053f-c500-4313-b6dd-a042707d94f9",
     "showTitle": false,
     "title": ""
    },
    "execution": {
     "iopub.execute_input": "2024-06-20T09:42:58.490858Z",
     "iopub.status.busy": "2024-06-20T09:42:58.490411Z",
     "iopub.status.idle": "2024-06-20T09:42:58.664710Z",
     "shell.execute_reply": "2024-06-20T09:42:58.663238Z"
    },
    "papermill": {
     "duration": 0.241333,
     "end_time": "2024-06-20T09:42:58.668342",
     "exception": false,
     "start_time": "2024-06-20T09:42:58.427009",
     "status": "completed"
    },
    "tags": []
   },
   "outputs": [],
   "source": [
    "Decision_Tree_Prediction = Decision_Tree_Model.transform(df_test)"
   ]
  },
  {
   "cell_type": "code",
   "execution_count": 40,
   "id": "9241b5db",
   "metadata": {
    "application/vnd.databricks.v1+cell": {
     "cellMetadata": {
      "byteLimit": 2048000,
      "rowLimit": 10000
     },
     "inputWidgets": {},
     "nuid": "00361132-760b-4a66-bb7b-874427063d2e",
     "showTitle": false,
     "title": ""
    },
    "execution": {
     "iopub.execute_input": "2024-06-20T09:42:58.799755Z",
     "iopub.status.busy": "2024-06-20T09:42:58.799222Z",
     "iopub.status.idle": "2024-06-20T09:43:00.933668Z",
     "shell.execute_reply": "2024-06-20T09:43:00.932460Z"
    },
    "papermill": {
     "duration": 2.199902,
     "end_time": "2024-06-20T09:43:00.939247",
     "exception": false,
     "start_time": "2024-06-20T09:42:58.739345",
     "status": "completed"
    },
    "tags": []
   },
   "outputs": [
    {
     "name": "stderr",
     "output_type": "stream",
     "text": [
      "[Stage 104:>                                                        (0 + 1) / 1]\r"
     ]
    },
    {
     "name": "stdout",
     "output_type": "stream",
     "text": [
      "+-----------------+-----------------+-----------------+----------------+-----------------+-----------------+-----------------+-----------------+-----------------+-----------------+----------------+-----------------+-----------------+-----------------+-------------------+-----------------+-----------------+-----------------+-----------------+-----------------+-----------------+-----------------+-----------------+-----------------+-----------------+------------------+-----------------+-----------------+--------+-----+--------------------+--------------+-----------+----------+\n",
      "|               V1|               V2|               V3|              V4|               V5|               V6|               V7|               V8|               V9|              V10|             V11|              V12|              V13|              V14|                V15|              V16|              V17|              V18|              V19|              V20|              V21|              V22|              V23|              V24|              V25|               V26|              V27|              V28|  Amount|LABEL|      feature_vector| rawPrediction|probability|prediction|\n",
      "+-----------------+-----------------+-----------------+----------------+-----------------+-----------------+-----------------+-----------------+-----------------+-----------------+----------------+-----------------+-----------------+-----------------+-------------------+-----------------+-----------------+-----------------+-----------------+-----------------+-----------------+-----------------+-----------------+-----------------+-----------------+------------------+-----------------+-----------------+--------+-----+--------------------+--------------+-----------+----------+\n",
      "| -56.407509631329|-72.7157275629303|-6.60526455012092|16.4912171736623| 34.8016658766686|-26.1605059358433| -19.399981013449| -1.5012995003112| 6.96769845415781| 9.53778008294537|3.08939479155133| 1.77645225213451| 3.73274433217423|-2.53079151962878|   5.78451388962946| 3.90398823637028|-1.92931422376138|0.206698525634258| 2.80588291852694|-12.3609620770731|-6.26687778237093| -1.2721672448564| 7.89308225421292|0.767805275962868| 5.37659495829949| 0.163672403597215|-8.35831663793055| 33.8478078188831| 1201.83|  0.0|[-56.407509631329...|[198704.0,0.0]|  [1.0,0.0]|       0.0|\n",
      "|-32.9628098116976| 18.1836264596211|-32.9653457595238|6.59608321454819|-23.5051671529327|-4.63961731902965|-22.5185468796902| 18.7092545433234|-3.74717720805929|-7.99298298809701|3.37516003622688| -4.5493204006516| 1.43992721855446|-3.42791747688383| -0.270332138002689|-4.49271290808162|-10.3486091953471| -4.5374327081357|0.285254865801854| 2.41403650969288|0.587372775838633| -2.0263721476423| -1.2198141534359|0.162653344736273|  2.3285414598531|-0.216531378218887| 1.12058116302734|0.379304187100439|   89.99|  0.0|[-32.962809811697...|[198704.0,0.0]|  [1.0,0.0]|       0.0|\n",
      "|-25.9424344479142| 14.6019980426299|-27.3686502881266|6.37839460769688|-19.1040334039646|-4.68480620428185|-18.2613929340355| 17.0525663121462|-3.74260500983864|  -8.233721369876| 4.6648362538527|-6.52566786025865| 0.92375858946558|-6.32597461208273|-0.0702237027595964|-5.83836021908828|-12.0616957125199|-4.77334851403019|0.852969608454831| 1.66730429040185| 1.78431598423494|-1.91775921336107|-1.23578743924962|0.161104731783341| 1.82037804128869|  -0.2193590586868| 1.38878576213598|0.406809649908512|   99.99|  1.0|[-25.942434447914...|   [0.0,343.0]|  [0.0,1.0]|       1.0|\n",
      "|-25.2663550194138| 14.3232538097233|-26.8236729135114|6.34924780743689| -18.664250613469|-4.64740304866878|-17.9712120192706| 16.6331030618556|-3.76835097141465|  -8.303239351259|4.78325736701241| -6.6992520739678|0.846767864669643|-6.57627643636006|-0.0623303798952992|-5.96165987257541|-12.2184817176797|-4.79184198325342|0.894853521838799| 1.65828884445902| 1.78070097046593|-1.86131814726914|-1.18816729293127|0.156667050663465| 1.76819198236914|-0.219916008250323| 1.41185477685432|0.414656383638367|   99.99|  1.0|[-25.266355019413...|   [0.0,343.0]|  [0.0,1.0]|       1.0|\n",
      "|-23.7128394089686|-42.1726875231095|-13.3208246805279|9.92501936512661|-13.9455376404468| 5.56489131600864| 15.7106439822399|-2.84425261686592|-1.58072500831757| -5.5332559073632|1.44669482617669| 0.90267505415758| 1.74697926404009| 2.35413099249729|  0.801598168355565| 2.06847490432671|   1.413407352408| 0.74831970603822|-3.63737113118018| 26.2373907895659| 7.92159987893745|-6.32070956224581|-11.3103376053523|0.404175327599178|-4.54727807360067| -1.57711817570979|-2.35738472087658| 2.25366209932537|12910.93|  0.0|[-23.712839408968...|[198704.0,0.0]|  [1.0,0.0]|       0.0|\n",
      "+-----------------+-----------------+-----------------+----------------+-----------------+-----------------+-----------------+-----------------+-----------------+-----------------+----------------+-----------------+-----------------+-----------------+-------------------+-----------------+-----------------+-----------------+-----------------+-----------------+-----------------+-----------------+-----------------+-----------------+-----------------+------------------+-----------------+-----------------+--------+-----+--------------------+--------------+-----------+----------+\n",
      "only showing top 5 rows\n",
      "\n"
     ]
    },
    {
     "name": "stderr",
     "output_type": "stream",
     "text": [
      "                                                                                \r"
     ]
    }
   ],
   "source": [
    "Decision_Tree_Prediction.show(5)"
   ]
  },
  {
   "cell_type": "code",
   "execution_count": 41,
   "id": "e580e0ce",
   "metadata": {
    "application/vnd.databricks.v1+cell": {
     "cellMetadata": {
      "byteLimit": 2048000,
      "rowLimit": 10000
     },
     "inputWidgets": {},
     "nuid": "154bf7a4-e383-4d6c-919c-f3c7df305dc4",
     "showTitle": false,
     "title": ""
    },
    "execution": {
     "iopub.execute_input": "2024-06-20T09:43:01.071120Z",
     "iopub.status.busy": "2024-06-20T09:43:01.070612Z",
     "iopub.status.idle": "2024-06-20T09:43:01.088064Z",
     "shell.execute_reply": "2024-06-20T09:43:01.086592Z"
    },
    "papermill": {
     "duration": 0.081411,
     "end_time": "2024-06-20T09:43:01.090892",
     "exception": false,
     "start_time": "2024-06-20T09:43:01.009481",
     "status": "completed"
    },
    "tags": []
   },
   "outputs": [],
   "source": [
    "Decision_Tree_Evaluator = MulticlassClassificationEvaluator(labelCol =  'LABEL', predictionCol = 'prediction')"
   ]
  },
  {
   "cell_type": "code",
   "execution_count": 42,
   "id": "41dab7bd",
   "metadata": {
    "application/vnd.databricks.v1+cell": {
     "cellMetadata": {
      "byteLimit": 2048000,
      "rowLimit": 10000
     },
     "inputWidgets": {},
     "nuid": "c1c9bd84-4437-454f-8bc7-20035d733f11",
     "showTitle": false,
     "title": ""
    },
    "execution": {
     "iopub.execute_input": "2024-06-20T09:43:01.210003Z",
     "iopub.status.busy": "2024-06-20T09:43:01.208832Z",
     "iopub.status.idle": "2024-06-20T09:43:04.813105Z",
     "shell.execute_reply": "2024-06-20T09:43:04.811485Z"
    },
    "papermill": {
     "duration": 3.668383,
     "end_time": "2024-06-20T09:43:04.817418",
     "exception": false,
     "start_time": "2024-06-20T09:43:01.149035",
     "status": "completed"
    },
    "tags": []
   },
   "outputs": [
    {
     "name": "stderr",
     "output_type": "stream",
     "text": [
      "                                                                                \r"
     ]
    }
   ],
   "source": [
    "Decision_Tree_Accuracy = Decision_Tree_Evaluator.evaluate(Decision_Tree_Prediction)"
   ]
  },
  {
   "cell_type": "code",
   "execution_count": 43,
   "id": "beaf6d60",
   "metadata": {
    "application/vnd.databricks.v1+cell": {
     "cellMetadata": {
      "byteLimit": 2048000,
      "rowLimit": 10000
     },
     "inputWidgets": {},
     "nuid": "438a62fe-3934-47de-99c9-73a9f82e719d",
     "showTitle": false,
     "title": ""
    },
    "execution": {
     "iopub.execute_input": "2024-06-20T09:43:04.964843Z",
     "iopub.status.busy": "2024-06-20T09:43:04.964401Z",
     "iopub.status.idle": "2024-06-20T09:43:04.971225Z",
     "shell.execute_reply": "2024-06-20T09:43:04.969924Z"
    },
    "papermill": {
     "duration": 0.07087,
     "end_time": "2024-06-20T09:43:04.974155",
     "exception": false,
     "start_time": "2024-06-20T09:43:04.903285",
     "status": "completed"
    },
    "tags": []
   },
   "outputs": [
    {
     "name": "stdout",
     "output_type": "stream",
     "text": [
      "Decision Tree Accuracy is : 100.0\n",
      "Test Error is : 0.0\n"
     ]
    }
   ],
   "source": [
    "print('Decision Tree Accuracy is : ' + str(Decision_Tree_Accuracy * 100))\n",
    "print('Test Error is : ' + str(1 - Decision_Tree_Accuracy))"
   ]
  },
  {
   "cell_type": "markdown",
   "id": "507e8eea",
   "metadata": {
    "application/vnd.databricks.v1+cell": {
     "cellMetadata": {},
     "inputWidgets": {},
     "nuid": "77eeac03-e8bb-4072-b532-77efa3715dd2",
     "showTitle": false,
     "title": ""
    },
    "papermill": {
     "duration": 0.064457,
     "end_time": "2024-06-20T09:43:05.101051",
     "exception": false,
     "start_time": "2024-06-20T09:43:05.036594",
     "status": "completed"
    },
    "tags": []
   },
   "source": [
    "<a id=\"forest\"></a>\n",
    "### Random Forest"
   ]
  },
  {
   "cell_type": "markdown",
   "id": "3d2dd722",
   "metadata": {
    "application/vnd.databricks.v1+cell": {
     "cellMetadata": {},
     "inputWidgets": {},
     "nuid": "98841867-02a1-48b9-aca7-64ef96388ab0",
     "showTitle": false,
     "title": ""
    },
    "papermill": {
     "duration": 0.061166,
     "end_time": "2024-06-20T09:43:05.223423",
     "exception": false,
     "start_time": "2024-06-20T09:43:05.162257",
     "status": "completed"
    },
    "tags": []
   },
   "source": [
    "Random Forest models are in a different \"meta-algorithm\" class than the previous boosting models called bagging. Bagging is a method where weak learners are created in parallel, as opposed to boosting's sequential approach, and ultimately aggregated to create a kind of average of their individual outputs.[$^{37}$](#37) Random Forests utilize parallel decision trees as shown in the image below. \n",
    "\n",
    "<p><img src=\"https://miro.medium.com/max/1306/0*f_qQPFpdofWGLQqc.png\" /></p>"
   ]
  },
  {
   "cell_type": "code",
   "execution_count": 44,
   "id": "911c8ce6",
   "metadata": {
    "application/vnd.databricks.v1+cell": {
     "cellMetadata": {
      "byteLimit": 2048000,
      "rowLimit": 10000
     },
     "inputWidgets": {},
     "nuid": "58352e74-df5f-4e4d-b6a7-645326b4a0b1",
     "showTitle": false,
     "title": ""
    },
    "execution": {
     "iopub.execute_input": "2024-06-20T09:43:05.348705Z",
     "iopub.status.busy": "2024-06-20T09:43:05.348280Z",
     "iopub.status.idle": "2024-06-20T09:43:05.386222Z",
     "shell.execute_reply": "2024-06-20T09:43:05.385043Z"
    },
    "papermill": {
     "duration": 0.104596,
     "end_time": "2024-06-20T09:43:05.389286",
     "exception": false,
     "start_time": "2024-06-20T09:43:05.284690",
     "status": "completed"
    },
    "tags": []
   },
   "outputs": [],
   "source": [
    "Random_Forest_Classifier = RandomForestClassifier(labelCol = 'LABEL', featuresCol = 'feature_vector',  maxDepth = 5,\n",
    "    maxBins = 32, numTrees = 500, predictionCol='prediction')"
   ]
  },
  {
   "cell_type": "code",
   "execution_count": 45,
   "id": "216a5e0e",
   "metadata": {
    "application/vnd.databricks.v1+cell": {
     "cellMetadata": {
      "byteLimit": 2048000,
      "rowLimit": 10000
     },
     "inputWidgets": {},
     "nuid": "e8ae1a79-acfa-4f0d-9a3f-b90c8d2cc2b2",
     "showTitle": false,
     "title": ""
    },
    "execution": {
     "iopub.execute_input": "2024-06-20T09:43:05.514069Z",
     "iopub.status.busy": "2024-06-20T09:43:05.513579Z",
     "iopub.status.idle": "2024-06-20T09:44:16.772601Z",
     "shell.execute_reply": "2024-06-20T09:44:16.771236Z"
    },
    "papermill": {
     "duration": 71.324646,
     "end_time": "2024-06-20T09:44:16.775852",
     "exception": false,
     "start_time": "2024-06-20T09:43:05.451206",
     "status": "completed"
    },
    "tags": []
   },
   "outputs": [
    {
     "name": "stderr",
     "output_type": "stream",
     "text": [
      "24/06/20 09:43:19 WARN MemoryStore: Not enough space to cache rdd_360_2 in memory! (computed 48.5 MiB so far)\n",
      "24/06/20 09:43:19 WARN BlockManager: Persisting block rdd_360_2 to disk instead.\n",
      "24/06/20 09:43:20 WARN MemoryStore: Not enough space to cache rdd_360_3 in memory! (computed 75.3 MiB so far)\n",
      "24/06/20 09:43:20 WARN BlockManager: Persisting block rdd_360_3 to disk instead.\n",
      "24/06/20 09:43:20 WARN MemoryStore: Not enough space to cache rdd_360_1 in memory! (computed 75.3 MiB so far)\n",
      "24/06/20 09:43:20 WARN BlockManager: Persisting block rdd_360_1 to disk instead.\n",
      "24/06/20 09:44:05 WARN DAGScheduler: Broadcasting large task binary with size 1087.8 KiB\n",
      "                                                                                \r"
     ]
    }
   ],
   "source": [
    "Random_Forest_Model = Random_Forest_Classifier.fit(df_train)"
   ]
  },
  {
   "cell_type": "code",
   "execution_count": 46,
   "id": "511d8799",
   "metadata": {
    "application/vnd.databricks.v1+cell": {
     "cellMetadata": {
      "byteLimit": 2048000,
      "rowLimit": 10000
     },
     "inputWidgets": {},
     "nuid": "6ea0eee8-d405-470f-a37b-46ac7e0a6dcd",
     "showTitle": false,
     "title": ""
    },
    "execution": {
     "iopub.execute_input": "2024-06-20T09:44:16.904734Z",
     "iopub.status.busy": "2024-06-20T09:44:16.904194Z",
     "iopub.status.idle": "2024-06-20T09:44:17.041511Z",
     "shell.execute_reply": "2024-06-20T09:44:17.040030Z"
    },
    "papermill": {
     "duration": 0.206081,
     "end_time": "2024-06-20T09:44:17.045332",
     "exception": false,
     "start_time": "2024-06-20T09:44:16.839251",
     "status": "completed"
    },
    "tags": []
   },
   "outputs": [],
   "source": [
    "Random_Forest_Prediction = Random_Forest_Model.transform(df_test)"
   ]
  },
  {
   "cell_type": "code",
   "execution_count": 47,
   "id": "fc2d90f3",
   "metadata": {
    "application/vnd.databricks.v1+cell": {
     "cellMetadata": {
      "byteLimit": 2048000,
      "rowLimit": 10000
     },
     "inputWidgets": {},
     "nuid": "c685402c-b7a2-477c-b5ed-a380b96c2476",
     "showTitle": false,
     "title": ""
    },
    "execution": {
     "iopub.execute_input": "2024-06-20T09:44:17.199730Z",
     "iopub.status.busy": "2024-06-20T09:44:17.198416Z",
     "iopub.status.idle": "2024-06-20T09:44:18.923161Z",
     "shell.execute_reply": "2024-06-20T09:44:18.921527Z"
    },
    "papermill": {
     "duration": 1.799034,
     "end_time": "2024-06-20T09:44:18.926887",
     "exception": false,
     "start_time": "2024-06-20T09:44:17.127853",
     "status": "completed"
    },
    "tags": []
   },
   "outputs": [
    {
     "name": "stderr",
     "output_type": "stream",
     "text": [
      "24/06/20 09:44:17 WARN DAGScheduler: Broadcasting large task binary with size 1785.6 KiB\n",
      "[Stage 124:>                                                        (0 + 1) / 1]\r"
     ]
    },
    {
     "name": "stdout",
     "output_type": "stream",
     "text": [
      "+-----------------+-----------------+-----------------+----------------+-----------------+-----------------+-----------------+-----------------+-----------------+-----------------+----------------+-----------------+-----------------+-----------------+-------------------+-----------------+-----------------+-----------------+-----------------+-----------------+-----------------+-----------------+-----------------+-----------------+-----------------+------------------+-----------------+-----------------+--------+-----+--------------------+--------------------+--------------------+----------+\n",
      "|               V1|               V2|               V3|              V4|               V5|               V6|               V7|               V8|               V9|              V10|             V11|              V12|              V13|              V14|                V15|              V16|              V17|              V18|              V19|              V20|              V21|              V22|              V23|              V24|              V25|               V26|              V27|              V28|  Amount|LABEL|      feature_vector|       rawPrediction|         probability|prediction|\n",
      "+-----------------+-----------------+-----------------+----------------+-----------------+-----------------+-----------------+-----------------+-----------------+-----------------+----------------+-----------------+-----------------+-----------------+-------------------+-----------------+-----------------+-----------------+-----------------+-----------------+-----------------+-----------------+-----------------+-----------------+-----------------+------------------+-----------------+-----------------+--------+-----+--------------------+--------------------+--------------------+----------+\n",
      "| -56.407509631329|-72.7157275629303|-6.60526455012092|16.4912171736623| 34.8016658766686|-26.1605059358433| -19.399981013449| -1.5012995003112| 6.96769845415781| 9.53778008294537|3.08939479155133| 1.77645225213451| 3.73274433217423|-2.53079151962878|   5.78451388962946| 3.90398823637028|-1.92931422376138|0.206698525634258| 2.80588291852694|-12.3609620770731|-6.26687778237093| -1.2721672448564| 7.89308225421292|0.767805275962868| 5.37659495829949| 0.163672403597215|-8.35831663793055| 33.8478078188831| 1201.83|  0.0|[-56.407509631329...|[478.200726519779...|[0.95640145303955...|       0.0|\n",
      "|-32.9628098116976| 18.1836264596211|-32.9653457595238|6.59608321454819|-23.5051671529327|-4.63961731902965|-22.5185468796902| 18.7092545433234|-3.74717720805929|-7.99298298809701|3.37516003622688| -4.5493204006516| 1.43992721855446|-3.42791747688383| -0.270332138002689|-4.49271290808162|-10.3486091953471| -4.5374327081357|0.285254865801854| 2.41403650969288|0.587372775838633| -2.0263721476423| -1.2198141534359|0.162653344736273|  2.3285414598531|-0.216531378218887| 1.12058116302734|0.379304187100439|   89.99|  0.0|[-32.962809811697...|[396.207482664530...|[0.79241496532906...|       0.0|\n",
      "|-25.9424344479142| 14.6019980426299|-27.3686502881266|6.37839460769688|-19.1040334039646|-4.68480620428185|-18.2613929340355| 17.0525663121462|-3.74260500983864|  -8.233721369876| 4.6648362538527|-6.52566786025865| 0.92375858946558|-6.32597461208273|-0.0702237027595964|-5.83836021908828|-12.0616957125199|-4.77334851403019|0.852969608454831| 1.66730429040185| 1.78431598423494|-1.91775921336107|-1.23578743924962|0.161104731783341| 1.82037804128869|  -0.2193590586868| 1.38878576213598|0.406809649908512|   99.99|  1.0|[-25.942434447914...|[17.4970941509553...|[0.03499418830191...|       1.0|\n",
      "|-25.2663550194138| 14.3232538097233|-26.8236729135114|6.34924780743689| -18.664250613469|-4.64740304866878|-17.9712120192706| 16.6331030618556|-3.76835097141465|  -8.303239351259|4.78325736701241| -6.6992520739678|0.846767864669643|-6.57627643636006|-0.0623303798952992|-5.96165987257541|-12.2184817176797|-4.79184198325342|0.894853521838799| 1.65828884445902| 1.78070097046593|-1.86131814726914|-1.18816729293127|0.156667050663465| 1.76819198236914|-0.219916008250323| 1.41185477685432|0.414656383638367|   99.99|  1.0|[-25.266355019413...|[17.4970941509553...|[0.03499418830191...|       1.0|\n",
      "|-23.7128394089686|-42.1726875231095|-13.3208246805279|9.92501936512661|-13.9455376404468| 5.56489131600864| 15.7106439822399|-2.84425261686592|-1.58072500831757| -5.5332559073632|1.44669482617669| 0.90267505415758| 1.74697926404009| 2.35413099249729|  0.801598168355565| 2.06847490432671|   1.413407352408| 0.74831970603822|-3.63737113118018| 26.2373907895659| 7.92159987893745|-6.32070956224581|-11.3103376053523|0.404175327599178|-4.54727807360067| -1.57711817570979|-2.35738472087658| 2.25366209932537|12910.93|  0.0|[-23.712839408968...|[499.410837905698...|[0.99882167581139...|       0.0|\n",
      "+-----------------+-----------------+-----------------+----------------+-----------------+-----------------+-----------------+-----------------+-----------------+-----------------+----------------+-----------------+-----------------+-----------------+-------------------+-----------------+-----------------+-----------------+-----------------+-----------------+-----------------+-----------------+-----------------+-----------------+-----------------+------------------+-----------------+-----------------+--------+-----+--------------------+--------------------+--------------------+----------+\n",
      "only showing top 5 rows\n",
      "\n"
     ]
    },
    {
     "name": "stderr",
     "output_type": "stream",
     "text": [
      "                                                                                \r"
     ]
    }
   ],
   "source": [
    "Random_Forest_Prediction.show(5)"
   ]
  },
  {
   "cell_type": "code",
   "execution_count": 48,
   "id": "df02b2f3",
   "metadata": {
    "application/vnd.databricks.v1+cell": {
     "cellMetadata": {
      "byteLimit": 2048000,
      "rowLimit": 10000
     },
     "inputWidgets": {},
     "nuid": "9e28d640-2dcc-4819-b4b9-78b2b079e868",
     "showTitle": false,
     "title": ""
    },
    "execution": {
     "iopub.execute_input": "2024-06-20T09:44:19.053861Z",
     "iopub.status.busy": "2024-06-20T09:44:19.053323Z",
     "iopub.status.idle": "2024-06-20T09:44:19.066392Z",
     "shell.execute_reply": "2024-06-20T09:44:19.065039Z"
    },
    "papermill": {
     "duration": 0.079951,
     "end_time": "2024-06-20T09:44:19.069194",
     "exception": false,
     "start_time": "2024-06-20T09:44:18.989243",
     "status": "completed"
    },
    "tags": []
   },
   "outputs": [],
   "source": [
    "Random_Forest_Evaluator = MulticlassClassificationEvaluator(labelCol = 'LABEL', predictionCol = 'prediction')"
   ]
  },
  {
   "cell_type": "code",
   "execution_count": 49,
   "id": "36ccff86",
   "metadata": {
    "application/vnd.databricks.v1+cell": {
     "cellMetadata": {
      "byteLimit": 2048000,
      "rowLimit": 10000
     },
     "inputWidgets": {},
     "nuid": "165eddb4-c53f-4c8f-82f1-9428e3649c07",
     "showTitle": false,
     "title": ""
    },
    "execution": {
     "iopub.execute_input": "2024-06-20T09:44:19.202317Z",
     "iopub.status.busy": "2024-06-20T09:44:19.201829Z",
     "iopub.status.idle": "2024-06-20T09:44:25.538620Z",
     "shell.execute_reply": "2024-06-20T09:44:25.537212Z"
    },
    "papermill": {
     "duration": 6.409334,
     "end_time": "2024-06-20T09:44:25.542950",
     "exception": false,
     "start_time": "2024-06-20T09:44:19.133616",
     "status": "completed"
    },
    "tags": []
   },
   "outputs": [
    {
     "name": "stderr",
     "output_type": "stream",
     "text": [
      "24/06/20 09:44:19 WARN DAGScheduler: Broadcasting large task binary with size 1779.0 KiB\n",
      "                                                                                \r"
     ]
    }
   ],
   "source": [
    "Random_Forest_Accuracy = Random_Forest_Evaluator.evaluate(Random_Forest_Prediction)"
   ]
  },
  {
   "cell_type": "code",
   "execution_count": 50,
   "id": "45322f71",
   "metadata": {
    "application/vnd.databricks.v1+cell": {
     "cellMetadata": {
      "byteLimit": 2048000,
      "rowLimit": 10000
     },
     "inputWidgets": {},
     "nuid": "75f2c95e-c07d-4704-b396-0c0d1b290ea5",
     "showTitle": false,
     "title": ""
    },
    "execution": {
     "iopub.execute_input": "2024-06-20T09:44:25.727097Z",
     "iopub.status.busy": "2024-06-20T09:44:25.726382Z",
     "iopub.status.idle": "2024-06-20T09:44:25.734531Z",
     "shell.execute_reply": "2024-06-20T09:44:25.733324Z"
    },
    "papermill": {
     "duration": 0.102348,
     "end_time": "2024-06-20T09:44:25.737447",
     "exception": false,
     "start_time": "2024-06-20T09:44:25.635099",
     "status": "completed"
    },
    "tags": []
   },
   "outputs": [
    {
     "name": "stdout",
     "output_type": "stream",
     "text": [
      "Random Forest Accuracy is : 100.0\n",
      "Test Error is : 0.0\n"
     ]
    }
   ],
   "source": [
    "print('Random Forest Accuracy is : ' + str(Random_Forest_Accuracy * 100))\n",
    "print('Test Error is : ' + str(1 - Random_Forest_Accuracy))"
   ]
  },
  {
   "cell_type": "markdown",
   "id": "430ba0d3",
   "metadata": {
    "application/vnd.databricks.v1+cell": {
     "cellMetadata": {},
     "inputWidgets": {},
     "nuid": "69addb00-0fdc-42a7-9270-bd0d00747a6d",
     "showTitle": false,
     "title": ""
    },
    "papermill": {
     "duration": 0.062115,
     "end_time": "2024-06-20T09:44:25.877239",
     "exception": false,
     "start_time": "2024-06-20T09:44:25.815124",
     "status": "completed"
    },
    "tags": []
   },
   "source": [
    "### Logisitic Regression\n",
    "<a id=\"logistic\"></a>\n",
    "\n",
    "Logistic model uses the logistic or inverse logit function to model a binary or dichotomous variable. Similar to linear regression, logistic regression fits the data to a line however unlike linear regression the line is not straight but rather an S shaped curved called **Sigmoid**. The S shaped curve is bound on the Y axis between 0 and 1 which fits our goal of binary classification. The sigmoid function (shown below) provides us with a probability of an observation belonging to one of the two classes. \n",
    "\n",
    "<p><center>$\\normalsize sigmoid(x)= \\frac{1}{1+e^{-x}} = \\frac{e^{x}}{e^{x}+1}$</center></p>\n",
    "<p></p>\n",
    "Representative plots for a linear regression and logistic regression can be seen below.\n",
    "<p><img src=\"https://miro.medium.com/max/1400/1*dm6ZaX5fuSmuVvM4Ds-vcg.jpeg\" /></p>"
   ]
  },
  {
   "cell_type": "code",
   "execution_count": 51,
   "id": "ae91718b",
   "metadata": {
    "application/vnd.databricks.v1+cell": {
     "cellMetadata": {
      "byteLimit": 2048000,
      "rowLimit": 10000
     },
     "inputWidgets": {},
     "nuid": "07c89db2-e44a-4897-b64d-78c56f30bc14",
     "showTitle": false,
     "title": ""
    },
    "execution": {
     "iopub.execute_input": "2024-06-20T09:44:26.005893Z",
     "iopub.status.busy": "2024-06-20T09:44:26.005366Z",
     "iopub.status.idle": "2024-06-20T09:44:26.058782Z",
     "shell.execute_reply": "2024-06-20T09:44:26.057447Z"
    },
    "papermill": {
     "duration": 0.121775,
     "end_time": "2024-06-20T09:44:26.061604",
     "exception": false,
     "start_time": "2024-06-20T09:44:25.939829",
     "status": "completed"
    },
    "tags": []
   },
   "outputs": [],
   "source": [
    "Logistic_Regression_Classifier = LogisticRegression(regParam = 0.3, labelCol = \"LABEL\", featuresCol = 'feature_vector', \\\n",
    "                                       maxIter = 20,  elasticNetParam = 0.8,predictionCol='prediction')\n"
   ]
  },
  {
   "cell_type": "code",
   "execution_count": 52,
   "id": "f45014b0",
   "metadata": {
    "application/vnd.databricks.v1+cell": {
     "cellMetadata": {
      "byteLimit": 2048000,
      "rowLimit": 10000
     },
     "inputWidgets": {},
     "nuid": "f18836c5-7339-4225-9fbc-c5843e93b72d",
     "showTitle": false,
     "title": ""
    },
    "execution": {
     "iopub.execute_input": "2024-06-20T09:44:26.189812Z",
     "iopub.status.busy": "2024-06-20T09:44:26.189357Z",
     "iopub.status.idle": "2024-06-20T09:44:36.379753Z",
     "shell.execute_reply": "2024-06-20T09:44:36.378522Z"
    },
    "papermill": {
     "duration": 10.25771,
     "end_time": "2024-06-20T09:44:36.382739",
     "exception": false,
     "start_time": "2024-06-20T09:44:26.125029",
     "status": "completed"
    },
    "tags": []
   },
   "outputs": [
    {
     "name": "stderr",
     "output_type": "stream",
     "text": [
      "24/06/20 09:44:32 WARN InstanceBuilder: Failed to load implementation from:dev.ludovic.netlib.blas.JNIBLAS\n",
      "                                                                                \r"
     ]
    }
   ],
   "source": [
    "Logistic_Regression_Model = Logistic_Regression_Classifier.fit(df_train)"
   ]
  },
  {
   "cell_type": "code",
   "execution_count": 53,
   "id": "dad8c1c3",
   "metadata": {
    "application/vnd.databricks.v1+cell": {
     "cellMetadata": {
      "byteLimit": 2048000,
      "rowLimit": 10000
     },
     "inputWidgets": {},
     "nuid": "a03b7e7f-aec8-405a-8bd8-f309bbb191a0",
     "showTitle": false,
     "title": ""
    },
    "execution": {
     "iopub.execute_input": "2024-06-20T09:44:36.512975Z",
     "iopub.status.busy": "2024-06-20T09:44:36.512517Z",
     "iopub.status.idle": "2024-06-20T09:44:37.959588Z",
     "shell.execute_reply": "2024-06-20T09:44:37.958144Z"
    },
    "papermill": {
     "duration": 1.518196,
     "end_time": "2024-06-20T09:44:37.964254",
     "exception": false,
     "start_time": "2024-06-20T09:44:36.446058",
     "status": "completed"
    },
    "tags": []
   },
   "outputs": [
    {
     "name": "stderr",
     "output_type": "stream",
     "text": [
      "[Stage 129:>                                                        (0 + 1) / 1]\r"
     ]
    },
    {
     "name": "stdout",
     "output_type": "stream",
     "text": [
      "+-----------------+-----------------+-----------------+----------------+-----------------+-----------------+-----------------+-----------------+-----------------+-----------------+----------------+-----------------+-----------------+-----------------+-------------------+-----------------+-----------------+-----------------+-----------------+-----------------+-----------------+-----------------+-----------------+-----------------+-----------------+------------------+-----------------+-----------------+--------+-----+--------------------+--------------------+--------------------+----------+\n",
      "|               V1|               V2|               V3|              V4|               V5|               V6|               V7|               V8|               V9|              V10|             V11|              V12|              V13|              V14|                V15|              V16|              V17|              V18|              V19|              V20|              V21|              V22|              V23|              V24|              V25|               V26|              V27|              V28|  Amount|LABEL|      feature_vector|       rawPrediction|         probability|prediction|\n",
      "+-----------------+-----------------+-----------------+----------------+-----------------+-----------------+-----------------+-----------------+-----------------+-----------------+----------------+-----------------+-----------------+-----------------+-------------------+-----------------+-----------------+-----------------+-----------------+-----------------+-----------------+-----------------+-----------------+-----------------+-----------------+------------------+-----------------+-----------------+--------+-----+--------------------+--------------------+--------------------+----------+\n",
      "| -56.407509631329|-72.7157275629303|-6.60526455012092|16.4912171736623| 34.8016658766686|-26.1605059358433| -19.399981013449| -1.5012995003112| 6.96769845415781| 9.53778008294537|3.08939479155133| 1.77645225213451| 3.73274433217423|-2.53079151962878|   5.78451388962946| 3.90398823637028|-1.92931422376138|0.206698525634258| 2.80588291852694|-12.3609620770731|-6.26687778237093| -1.2721672448564| 7.89308225421292|0.767805275962868| 5.37659495829949| 0.163672403597215|-8.35831663793055| 33.8478078188831| 1201.83|  0.0|[-56.407509631329...|[6.36184111202187...|[0.99827678889910...|       0.0|\n",
      "|-32.9628098116976| 18.1836264596211|-32.9653457595238|6.59608321454819|-23.5051671529327|-4.63961731902965|-22.5185468796902| 18.7092545433234|-3.74717720805929|-7.99298298809701|3.37516003622688| -4.5493204006516| 1.43992721855446|-3.42791747688383| -0.270332138002689|-4.49271290808162|-10.3486091953471| -4.5374327081357|0.285254865801854| 2.41403650969288|0.587372775838633| -2.0263721476423| -1.2198141534359|0.162653344736273|  2.3285414598531|-0.216531378218887| 1.12058116302734|0.379304187100439|   89.99|  0.0|[-32.962809811697...|[6.36184111202187...|[0.99827678889910...|       0.0|\n",
      "|-25.9424344479142| 14.6019980426299|-27.3686502881266|6.37839460769688|-19.1040334039646|-4.68480620428185|-18.2613929340355| 17.0525663121462|-3.74260500983864|  -8.233721369876| 4.6648362538527|-6.52566786025865| 0.92375858946558|-6.32597461208273|-0.0702237027595964|-5.83836021908828|-12.0616957125199|-4.77334851403019|0.852969608454831| 1.66730429040185| 1.78431598423494|-1.91775921336107|-1.23578743924962|0.161104731783341| 1.82037804128869|  -0.2193590586868| 1.38878576213598|0.406809649908512|   99.99|  1.0|[-25.942434447914...|[6.36184111202187...|[0.99827678889910...|       0.0|\n",
      "|-25.2663550194138| 14.3232538097233|-26.8236729135114|6.34924780743689| -18.664250613469|-4.64740304866878|-17.9712120192706| 16.6331030618556|-3.76835097141465|  -8.303239351259|4.78325736701241| -6.6992520739678|0.846767864669643|-6.57627643636006|-0.0623303798952992|-5.96165987257541|-12.2184817176797|-4.79184198325342|0.894853521838799| 1.65828884445902| 1.78070097046593|-1.86131814726914|-1.18816729293127|0.156667050663465| 1.76819198236914|-0.219916008250323| 1.41185477685432|0.414656383638367|   99.99|  1.0|[-25.266355019413...|[6.36184111202187...|[0.99827678889910...|       0.0|\n",
      "|-23.7128394089686|-42.1726875231095|-13.3208246805279|9.92501936512661|-13.9455376404468| 5.56489131600864| 15.7106439822399|-2.84425261686592|-1.58072500831757| -5.5332559073632|1.44669482617669| 0.90267505415758| 1.74697926404009| 2.35413099249729|  0.801598168355565| 2.06847490432671|   1.413407352408| 0.74831970603822|-3.63737113118018| 26.2373907895659| 7.92159987893745|-6.32070956224581|-11.3103376053523|0.404175327599178|-4.54727807360067| -1.57711817570979|-2.35738472087658| 2.25366209932537|12910.93|  0.0|[-23.712839408968...|[6.36184111202187...|[0.99827678889910...|       0.0|\n",
      "+-----------------+-----------------+-----------------+----------------+-----------------+-----------------+-----------------+-----------------+-----------------+-----------------+----------------+-----------------+-----------------+-----------------+-------------------+-----------------+-----------------+-----------------+-----------------+-----------------+-----------------+-----------------+-----------------+-----------------+-----------------+------------------+-----------------+-----------------+--------+-----+--------------------+--------------------+--------------------+----------+\n",
      "only showing top 5 rows\n",
      "\n"
     ]
    },
    {
     "name": "stderr",
     "output_type": "stream",
     "text": [
      "                                                                                \r"
     ]
    }
   ],
   "source": [
    "Logistic_Regression_Prediction = Logistic_Regression_Model.transform(df_test)\n",
    "\n",
    "Logistic_Regression_Prediction.show(5)"
   ]
  },
  {
   "cell_type": "code",
   "execution_count": 54,
   "id": "5ba33abc",
   "metadata": {
    "application/vnd.databricks.v1+cell": {
     "cellMetadata": {
      "byteLimit": 2048000,
      "rowLimit": 10000
     },
     "inputWidgets": {},
     "nuid": "3d1ece1b-5b98-448a-aaa6-3117f16ede80",
     "showTitle": false,
     "title": ""
    },
    "execution": {
     "iopub.execute_input": "2024-06-20T09:44:38.106456Z",
     "iopub.status.busy": "2024-06-20T09:44:38.104823Z",
     "iopub.status.idle": "2024-06-20T09:44:38.117711Z",
     "shell.execute_reply": "2024-06-20T09:44:38.116435Z"
    },
    "papermill": {
     "duration": 0.090288,
     "end_time": "2024-06-20T09:44:38.120980",
     "exception": false,
     "start_time": "2024-06-20T09:44:38.030692",
     "status": "completed"
    },
    "tags": []
   },
   "outputs": [],
   "source": [
    "Logistic_Regression_Evaluator = MulticlassClassificationEvaluator(labelCol = \"LABEL\", predictionCol = \"prediction\", \\\n",
    "                                                     metricName = \"accuracy\")"
   ]
  },
  {
   "cell_type": "code",
   "execution_count": 55,
   "id": "5be351ca",
   "metadata": {
    "application/vnd.databricks.v1+cell": {
     "cellMetadata": {
      "byteLimit": 2048000,
      "rowLimit": 10000
     },
     "inputWidgets": {},
     "nuid": "9ae1c996-ddbd-4da5-b543-7ea1f62459f0",
     "showTitle": false,
     "title": ""
    },
    "execution": {
     "iopub.execute_input": "2024-06-20T09:44:38.258132Z",
     "iopub.status.busy": "2024-06-20T09:44:38.256821Z",
     "iopub.status.idle": "2024-06-20T09:44:40.719509Z",
     "shell.execute_reply": "2024-06-20T09:44:40.718106Z"
    },
    "papermill": {
     "duration": 2.534158,
     "end_time": "2024-06-20T09:44:40.722620",
     "exception": false,
     "start_time": "2024-06-20T09:44:38.188462",
     "status": "completed"
    },
    "tags": []
   },
   "outputs": [
    {
     "name": "stderr",
     "output_type": "stream",
     "text": [
      "                                                                                \r"
     ]
    }
   ],
   "source": [
    "Logistic_Regression_Accuracy = Logistic_Regression_Evaluator.evaluate(Logistic_Regression_Prediction)"
   ]
  },
  {
   "cell_type": "code",
   "execution_count": 56,
   "id": "cfa81413",
   "metadata": {
    "application/vnd.databricks.v1+cell": {
     "cellMetadata": {
      "byteLimit": 2048000,
      "rowLimit": 10000
     },
     "inputWidgets": {},
     "nuid": "11343cb8-483d-4e8f-92e5-a54929019590",
     "showTitle": false,
     "title": ""
    },
    "execution": {
     "iopub.execute_input": "2024-06-20T09:44:40.860932Z",
     "iopub.status.busy": "2024-06-20T09:44:40.859810Z",
     "iopub.status.idle": "2024-06-20T09:44:40.867194Z",
     "shell.execute_reply": "2024-06-20T09:44:40.865787Z"
    },
    "papermill": {
     "duration": 0.075985,
     "end_time": "2024-06-20T09:44:40.870137",
     "exception": false,
     "start_time": "2024-06-20T09:44:40.794152",
     "status": "completed"
    },
    "tags": []
   },
   "outputs": [
    {
     "name": "stdout",
     "output_type": "stream",
     "text": [
      "Logistic Regression Accuracy is : 99.82625932835822\n",
      "Test Error is : 0.0017374067164178664\n"
     ]
    }
   ],
   "source": [
    "print('Logistic Regression Accuracy is : ' + str(Logistic_Regression_Accuracy * 100))\n",
    "print('Test Error is : ' + str(1 - Logistic_Regression_Accuracy))"
   ]
  },
  {
   "cell_type": "markdown",
   "id": "13b7f5e9",
   "metadata": {
    "application/vnd.databricks.v1+cell": {
     "cellMetadata": {},
     "inputWidgets": {},
     "nuid": "2acef2a4-a3b7-4f6f-8e36-39f0a16a3291",
     "showTitle": false,
     "title": ""
    },
    "papermill": {
     "duration": 0.066505,
     "end_time": "2024-06-20T09:44:41.004332",
     "exception": false,
     "start_time": "2024-06-20T09:44:40.937827",
     "status": "completed"
    },
    "tags": []
   },
   "source": [
    "# Calculate the confusion matrix and find the precision, recall, and F1 score of each classification algorithm."
   ]
  },
  {
   "cell_type": "markdown",
   "id": "d586ec85",
   "metadata": {
    "application/vnd.databricks.v1+cell": {
     "cellMetadata": {},
     "inputWidgets": {},
     "nuid": "afc15f3a-8e7e-4f13-bd19-68cfb708eafe",
     "showTitle": false,
     "title": ""
    },
    "papermill": {
     "duration": 0.066,
     "end_time": "2024-06-20T09:44:41.137396",
     "exception": false,
     "start_time": "2024-06-20T09:44:41.071396",
     "status": "completed"
    },
    "tags": []
   },
   "source": [
    "### Decision Trees Model Performance"
   ]
  },
  {
   "cell_type": "code",
   "execution_count": 57,
   "id": "2b6d791c",
   "metadata": {
    "application/vnd.databricks.v1+cell": {
     "cellMetadata": {
      "byteLimit": 2048000,
      "rowLimit": 10000
     },
     "inputWidgets": {},
     "nuid": "0160a4b6-f327-4f90-9063-3561afe43ba6",
     "showTitle": false,
     "title": ""
    },
    "execution": {
     "iopub.execute_input": "2024-06-20T09:44:41.273599Z",
     "iopub.status.busy": "2024-06-20T09:44:41.272478Z",
     "iopub.status.idle": "2024-06-20T09:44:58.802228Z",
     "shell.execute_reply": "2024-06-20T09:44:58.800867Z"
    },
    "papermill": {
     "duration": 17.60222,
     "end_time": "2024-06-20T09:44:58.806328",
     "exception": false,
     "start_time": "2024-06-20T09:44:41.204108",
     "status": "completed"
    },
    "tags": []
   },
   "outputs": [
    {
     "name": "stderr",
     "output_type": "stream",
     "text": [
      "                                                                                \r"
     ]
    },
    {
     "name": "stdout",
     "output_type": "stream",
     "text": [
      "Precision: 1.0\n",
      "Recall: 1.0\n",
      "F1 Score: 1.0\n"
     ]
    },
    {
     "name": "stderr",
     "output_type": "stream",
     "text": [
      "[Stage 149:>                                                        (0 + 4) / 4]\r"
     ]
    },
    {
     "name": "stdout",
     "output_type": "stream",
     "text": [
      "+----------------+-----+---+\n",
      "|prediction_label|  0.0|1.0|\n",
      "+----------------+-----+---+\n",
      "|             1.0|    0|149|\n",
      "|             0.0|85611|  0|\n",
      "+----------------+-----+---+\n",
      "\n"
     ]
    },
    {
     "name": "stderr",
     "output_type": "stream",
     "text": [
      "                                                                                \r"
     ]
    }
   ],
   "source": [
    "# Select only the prediction and label columns\n",
    "predictions_and_labels = Decision_Tree_Prediction.select(['prediction', 'label'])\n",
    "\n",
    "# Calculate true positive, false positive, false negative\n",
    "tp = predictions_and_labels.filter((col('prediction') == 1) & (col('label') == 1)).count()\n",
    "fp = predictions_and_labels.filter((col('prediction') == 1) & (col('label') == 0)).count()\n",
    "fn = predictions_and_labels.filter((col('prediction') == 0) & (col('label') == 1)).count()\n",
    "\n",
    "# Calculate precision, recall, and F1-score\n",
    "precision = tp / (tp + fp)\n",
    "recall = tp / (tp + fn)\n",
    "f1_score = 2 * (precision * recall) / (precision + recall)\n",
    "\n",
    "print(\"Precision:\", precision)\n",
    "print(\"Recall:\", recall)\n",
    "print(\"F1 Score:\", f1_score)\n",
    "confusion_matrix = predictions_and_labels.crosstab('prediction', 'label')\n",
    "confusion_matrix.show()"
   ]
  },
  {
   "cell_type": "code",
   "execution_count": 58,
   "id": "0fe6537d",
   "metadata": {
    "application/vnd.databricks.v1+cell": {
     "cellMetadata": {
      "byteLimit": 2048000,
      "rowLimit": 10000
     },
     "inputWidgets": {},
     "nuid": "86746c47-81a9-4d6e-ab7c-24a26719bb3f",
     "showTitle": false,
     "title": ""
    },
    "execution": {
     "iopub.execute_input": "2024-06-20T09:44:58.960470Z",
     "iopub.status.busy": "2024-06-20T09:44:58.959983Z",
     "iopub.status.idle": "2024-06-20T09:44:58.966919Z",
     "shell.execute_reply": "2024-06-20T09:44:58.965836Z"
    },
    "papermill": {
     "duration": 0.080185,
     "end_time": "2024-06-20T09:44:58.970399",
     "exception": false,
     "start_time": "2024-06-20T09:44:58.890214",
     "status": "completed"
    },
    "tags": []
   },
   "outputs": [
    {
     "name": "stdout",
     "output_type": "stream",
     "text": [
      "root\n",
      " |-- V1: double (nullable = true)\n",
      " |-- V2: double (nullable = true)\n",
      " |-- V3: double (nullable = true)\n",
      " |-- V4: double (nullable = true)\n",
      " |-- V5: double (nullable = true)\n",
      " |-- V6: double (nullable = true)\n",
      " |-- V7: double (nullable = true)\n",
      " |-- V8: double (nullable = true)\n",
      " |-- V9: double (nullable = true)\n",
      " |-- V10: double (nullable = true)\n",
      " |-- V11: double (nullable = true)\n",
      " |-- V12: double (nullable = true)\n",
      " |-- V13: double (nullable = true)\n",
      " |-- V14: double (nullable = true)\n",
      " |-- V15: double (nullable = true)\n",
      " |-- V16: double (nullable = true)\n",
      " |-- V17: double (nullable = true)\n",
      " |-- V18: double (nullable = true)\n",
      " |-- V19: double (nullable = true)\n",
      " |-- V20: double (nullable = true)\n",
      " |-- V21: double (nullable = true)\n",
      " |-- V22: double (nullable = true)\n",
      " |-- V23: double (nullable = true)\n",
      " |-- V24: double (nullable = true)\n",
      " |-- V25: double (nullable = true)\n",
      " |-- V26: double (nullable = true)\n",
      " |-- V27: double (nullable = true)\n",
      " |-- V28: double (nullable = true)\n",
      " |-- Amount: double (nullable = true)\n",
      " |-- LABEL: double (nullable = true)\n",
      " |-- feature_vector: vector (nullable = true)\n",
      " |-- rawPrediction: vector (nullable = true)\n",
      " |-- probability: vector (nullable = true)\n",
      " |-- prediction: double (nullable = false)\n",
      "\n",
      "None\n"
     ]
    }
   ],
   "source": [
    "print(Decision_Tree_Prediction.printSchema())"
   ]
  },
  {
   "cell_type": "markdown",
   "id": "73fca00f",
   "metadata": {
    "application/vnd.databricks.v1+cell": {
     "cellMetadata": {},
     "inputWidgets": {},
     "nuid": "5f6aa451-05f0-4d59-84f0-74b9c6679ed6",
     "showTitle": false,
     "title": ""
    },
    "papermill": {
     "duration": 0.067788,
     "end_time": "2024-06-20T09:44:59.109910",
     "exception": false,
     "start_time": "2024-06-20T09:44:59.042122",
     "status": "completed"
    },
    "tags": []
   },
   "source": [
    "- Here is the flyweight design pattern principal that \n",
    "  implemented on `DecisionTree`"
   ]
  },
  {
   "cell_type": "code",
   "execution_count": 59,
   "id": "da00c550",
   "metadata": {
    "application/vnd.databricks.v1+cell": {
     "cellMetadata": {
      "byteLimit": 2048000,
      "rowLimit": 10000
     },
     "inputWidgets": {},
     "nuid": "6b3cb4e3-3517-46b7-9950-86b8bce97ab2",
     "showTitle": false,
     "title": ""
    },
    "execution": {
     "iopub.execute_input": "2024-06-20T09:44:59.248514Z",
     "iopub.status.busy": "2024-06-20T09:44:59.247706Z",
     "iopub.status.idle": "2024-06-20T09:45:19.277651Z",
     "shell.execute_reply": "2024-06-20T09:45:19.276425Z"
    },
    "papermill": {
     "duration": 20.103511,
     "end_time": "2024-06-20T09:45:19.281476",
     "exception": false,
     "start_time": "2024-06-20T09:44:59.177965",
     "status": "completed"
    },
    "tags": []
   },
   "outputs": [
    {
     "name": "stderr",
     "output_type": "stream",
     "text": [
      "24/06/20 09:44:59 WARN SparkSession: Using an existing Spark session; only runtime SQL configurations will take effect.\n",
      "                                                                                \r"
     ]
    },
    {
     "name": "stdout",
     "output_type": "stream",
     "text": [
      "Precision: 1.0\n",
      "Recall: 1.0\n",
      "F1 Score: 1.0\n",
      "Confusion Matrix:\n"
     ]
    },
    {
     "name": "stderr",
     "output_type": "stream",
     "text": [
      "[Stage 177:==============>                                          (1 + 3) / 4]\r"
     ]
    },
    {
     "name": "stdout",
     "output_type": "stream",
     "text": [
      "+----------------+-----+---+\n",
      "|prediction_label|  0.0|1.0|\n",
      "+----------------+-----+---+\n",
      "|             1.0|    0|149|\n",
      "|             0.0|85611|  0|\n",
      "+----------------+-----+---+\n",
      "\n"
     ]
    },
    {
     "name": "stderr",
     "output_type": "stream",
     "text": [
      "                                                                                \r"
     ]
    }
   ],
   "source": [
    "from pyspark.sql import SparkSession\n",
    "from pyspark.sql.functions import col\n",
    "\n",
    "class MetricsFlyweight:\n",
    "    _metrics_cache = {}\n",
    "\n",
    "    @classmethod\n",
    "    def get_metrics(cls, key, predictions_and_labels):\n",
    "        if key not in cls._metrics_cache:\n",
    "            cls._metrics_cache[key] = cls._calculate_metrics(predictions_and_labels)\n",
    "        return cls._metrics_cache[key]\n",
    "\n",
    "    @staticmethod\n",
    "    def _calculate_metrics(predictions_and_labels):\n",
    "        tp = predictions_and_labels.filter((col('prediction') == 1) & (col('label') == 1)).count()\n",
    "        fp = predictions_and_labels.filter((col('prediction') == 1) & (col('label') == 0)).count()\n",
    "        fn = predictions_and_labels.filter((col('prediction') == 0) & (col('label') == 1)).count()\n",
    "        tn = predictions_and_labels.filter((col('prediction') == 0) & (col('label') == 0)).count()\n",
    "\n",
    "        precision = tp / (tp + fp)\n",
    "        recall = tp / (tp + fn)\n",
    "        f1_score = 2 * (precision * recall) / (precision + recall)\n",
    "\n",
    "        return precision, recall, f1_score\n",
    "\n",
    "class ConfusionMatrixFlyweight:\n",
    "    _confusion_matrix_cache = {}\n",
    "\n",
    "    @classmethod\n",
    "    def get_confusion_matrix(cls, key, predictions_and_labels):\n",
    "        if key not in cls._confusion_matrix_cache:\n",
    "            cls._confusion_matrix_cache[key] = cls._calculate_confusion_matrix(predictions_and_labels)\n",
    "        return cls._confusion_matrix_cache[key]\n",
    "\n",
    "    @staticmethod\n",
    "    def _calculate_confusion_matrix(predictions_and_labels):\n",
    "        confusion_matrix = predictions_and_labels.crosstab('prediction', 'label')\n",
    "        return confusion_matrix\n",
    "\n",
    "def main():\n",
    "    # Create SparkSession\n",
    "    spark = SparkSession.builder \\\n",
    "        .appName(\"RandomForestMetrics\") \\\n",
    "        .getOrCreate()\n",
    "\n",
    "    # Read data from CSV file\n",
    "    RandomForest_Prediction = spark.read.csv(\"/kaggle/input/creditcardfraud/creditcard.csv\", header=True, inferSchema=True)\n",
    "\n",
    "    # Select only the prediction and label columns\n",
    "    predictions_and_labels = Decision_Tree_Prediction.select(['prediction', 'label'])\n",
    "\n",
    "    # Calculate metrics and confusion matrix using Flyweight pattern\n",
    "    precision, recall, f1_score = MetricsFlyweight.get_metrics(\"metrics\", predictions_and_labels)\n",
    "    confusion_matrix = ConfusionMatrixFlyweight.get_confusion_matrix(\"confusion_matrix\", predictions_and_labels)\n",
    "\n",
    "    # Display metrics and confusion matrix\n",
    "    print(\"Precision:\", precision)\n",
    "    print(\"Recall:\", recall)\n",
    "    print(\"F1 Score:\", f1_score)\n",
    "    print(\"Confusion Matrix:\")\n",
    "    confusion_matrix.show()\n",
    "\n",
    "if __name__ == \"__main__\":\n",
    "    main()"
   ]
  },
  {
   "cell_type": "markdown",
   "id": "919903e2",
   "metadata": {
    "application/vnd.databricks.v1+cell": {
     "cellMetadata": {},
     "inputWidgets": {},
     "nuid": "55c751d4-1abd-488f-bd24-506b18d8d4e1",
     "showTitle": false,
     "title": ""
    },
    "papermill": {
     "duration": 0.069782,
     "end_time": "2024-06-20T09:45:19.428548",
     "exception": false,
     "start_time": "2024-06-20T09:45:19.358766",
     "status": "completed"
    },
    "tags": []
   },
   "source": [
    "### Random Forest Model Performance"
   ]
  },
  {
   "cell_type": "code",
   "execution_count": 60,
   "id": "6a645334",
   "metadata": {
    "application/vnd.databricks.v1+cell": {
     "cellMetadata": {
      "byteLimit": 2048000,
      "rowLimit": 10000
     },
     "inputWidgets": {},
     "nuid": "5bc0e396-4ca0-4c28-ba17-8c683d3d1e76",
     "showTitle": false,
     "title": ""
    },
    "execution": {
     "iopub.execute_input": "2024-06-20T09:45:19.573223Z",
     "iopub.status.busy": "2024-06-20T09:45:19.572758Z",
     "iopub.status.idle": "2024-06-20T09:45:50.349540Z",
     "shell.execute_reply": "2024-06-20T09:45:50.347391Z"
    },
    "papermill": {
     "duration": 30.855143,
     "end_time": "2024-06-20T09:45:50.352443",
     "exception": false,
     "start_time": "2024-06-20T09:45:19.497300",
     "status": "completed"
    },
    "tags": []
   },
   "outputs": [
    {
     "name": "stderr",
     "output_type": "stream",
     "text": [
      "24/06/20 09:45:21 WARN DAGScheduler: Broadcasting large task binary with size 1771.4 KiB\n",
      "24/06/20 09:45:26 WARN DAGScheduler: Broadcasting large task binary with size 1771.4 KiB\n",
      "24/06/20 09:45:31 WARN DAGScheduler: Broadcasting large task binary with size 1771.4 KiB\n",
      "24/06/20 09:45:36 WARN DAGScheduler: Broadcasting large task binary with size 1771.4 KiB\n",
      "                                                                                \r"
     ]
    },
    {
     "name": "stdout",
     "output_type": "stream",
     "text": [
      "Precision: 1.0\n",
      "Recall: 1.0\n",
      "F1 Score: 1.0\n"
     ]
    },
    {
     "name": "stderr",
     "output_type": "stream",
     "text": [
      "24/06/20 09:45:45 WARN DAGScheduler: Broadcasting large task binary with size 1780.6 KiB\n",
      "24/06/20 09:45:49 WARN DAGScheduler: Broadcasting large task binary with size 1760.1 KiB\n"
     ]
    },
    {
     "name": "stdout",
     "output_type": "stream",
     "text": [
      "+----------------+-----+---+\n",
      "|prediction_label|  0.0|1.0|\n",
      "+----------------+-----+---+\n",
      "|             1.0|    0|149|\n",
      "|             0.0|85611|  0|\n",
      "+----------------+-----+---+\n",
      "\n"
     ]
    },
    {
     "name": "stderr",
     "output_type": "stream",
     "text": [
      "24/06/20 09:45:50 WARN DAGScheduler: Broadcasting large task binary with size 1763.3 KiB\n",
      "                                                                                \r"
     ]
    }
   ],
   "source": [
    "# Assuming RandomForest_Prediction is your DataFrame with prediction and label columns\n",
    "# Replace this with your actual DataFrame\n",
    "RandomForest_Prediction = spark.read.csv(\"/kaggle/input/creditcardfraud/creditcard.csv\", header=True, inferSchema=True)\n",
    "\n",
    "# Select only the prediction and label columns\n",
    "predictions_and_labels = Random_Forest_Prediction.select(['prediction', 'label'])\n",
    "\n",
    "# Calculate true positive, false positive, false negative\n",
    "tp = predictions_and_labels.filter((col('prediction') == 1) & (col('label') == 1)).count()\n",
    "fp = predictions_and_labels.filter((col('prediction') == 1) & (col('label') == 0)).count()\n",
    "fn = predictions_and_labels.filter((col('prediction') == 0) & (col('label') == 1)).count()\n",
    "tn = predictions_and_labels.filter((col('prediction') == 0) & (col('label') == 0)).count()\n",
    "\n",
    "# Calculate precision, recall, and F1-score\n",
    "precision = tp / (tp + fp)\n",
    "recall = tp / (tp + fn)\n",
    "f1_score = 2 * (precision * recall) / (precision + recall)\n",
    "\n",
    "print(\"Precision:\", precision)\n",
    "print(\"Recall:\", recall)\n",
    "print(\"F1 Score:\", f1_score)\n",
    "\n",
    "# Display confusion matrix\n",
    "confusion_matrix = predictions_and_labels.crosstab('prediction', 'label')\n",
    "confusion_matrix.show()"
   ]
  },
  {
   "cell_type": "code",
   "execution_count": 61,
   "id": "dd9f3569",
   "metadata": {
    "application/vnd.databricks.v1+cell": {
     "cellMetadata": {
      "byteLimit": 2048000,
      "rowLimit": 10000
     },
     "inputWidgets": {},
     "nuid": "8759d6df-fa0b-4635-9bc4-bff370a9fa2d",
     "showTitle": false,
     "title": ""
    },
    "execution": {
     "iopub.execute_input": "2024-06-20T09:45:50.497534Z",
     "iopub.status.busy": "2024-06-20T09:45:50.497000Z",
     "iopub.status.idle": "2024-06-20T09:45:50.505026Z",
     "shell.execute_reply": "2024-06-20T09:45:50.503263Z"
    },
    "papermill": {
     "duration": 0.083087,
     "end_time": "2024-06-20T09:45:50.507594",
     "exception": false,
     "start_time": "2024-06-20T09:45:50.424507",
     "status": "completed"
    },
    "tags": []
   },
   "outputs": [
    {
     "name": "stdout",
     "output_type": "stream",
     "text": [
      "root\n",
      " |-- Time: double (nullable = true)\n",
      " |-- V1: double (nullable = true)\n",
      " |-- V2: double (nullable = true)\n",
      " |-- V3: double (nullable = true)\n",
      " |-- V4: double (nullable = true)\n",
      " |-- V5: double (nullable = true)\n",
      " |-- V6: double (nullable = true)\n",
      " |-- V7: double (nullable = true)\n",
      " |-- V8: double (nullable = true)\n",
      " |-- V9: double (nullable = true)\n",
      " |-- V10: double (nullable = true)\n",
      " |-- V11: double (nullable = true)\n",
      " |-- V12: double (nullable = true)\n",
      " |-- V13: double (nullable = true)\n",
      " |-- V14: double (nullable = true)\n",
      " |-- V15: double (nullable = true)\n",
      " |-- V16: double (nullable = true)\n",
      " |-- V17: double (nullable = true)\n",
      " |-- V18: double (nullable = true)\n",
      " |-- V19: double (nullable = true)\n",
      " |-- V20: double (nullable = true)\n",
      " |-- V21: double (nullable = true)\n",
      " |-- V22: double (nullable = true)\n",
      " |-- V23: double (nullable = true)\n",
      " |-- V24: double (nullable = true)\n",
      " |-- V25: double (nullable = true)\n",
      " |-- V26: double (nullable = true)\n",
      " |-- V27: double (nullable = true)\n",
      " |-- V28: double (nullable = true)\n",
      " |-- Amount: double (nullable = true)\n",
      " |-- Class: integer (nullable = true)\n",
      "\n",
      "None\n"
     ]
    }
   ],
   "source": [
    "print(RandomForest_Prediction.printSchema())"
   ]
  },
  {
   "cell_type": "markdown",
   "id": "c424350f",
   "metadata": {
    "application/vnd.databricks.v1+cell": {
     "cellMetadata": {},
     "inputWidgets": {},
     "nuid": "62936fcc-961d-47f6-be38-d19f151db307",
     "showTitle": false,
     "title": ""
    },
    "papermill": {
     "duration": 0.07085,
     "end_time": "2024-06-20T09:45:50.649593",
     "exception": false,
     "start_time": "2024-06-20T09:45:50.578743",
     "status": "completed"
    },
    "tags": []
   },
   "source": [
    "- Here is the flyweight design pattern principal that \n",
    "  implemented on `RandomForest`"
   ]
  },
  {
   "cell_type": "code",
   "execution_count": 62,
   "id": "c57cdea1",
   "metadata": {
    "application/vnd.databricks.v1+cell": {
     "cellMetadata": {
      "byteLimit": 2048000,
      "rowLimit": 10000
     },
     "inputWidgets": {},
     "nuid": "052475cd-adf6-42f1-a48f-319d4808c844",
     "showTitle": false,
     "title": ""
    },
    "execution": {
     "iopub.execute_input": "2024-06-20T09:45:50.796722Z",
     "iopub.status.busy": "2024-06-20T09:45:50.795255Z",
     "iopub.status.idle": "2024-06-20T09:46:20.281159Z",
     "shell.execute_reply": "2024-06-20T09:46:20.280013Z"
    },
    "papermill": {
     "duration": 29.562453,
     "end_time": "2024-06-20T09:46:20.285607",
     "exception": false,
     "start_time": "2024-06-20T09:45:50.723154",
     "status": "completed"
    },
    "tags": []
   },
   "outputs": [
    {
     "name": "stderr",
     "output_type": "stream",
     "text": [
      "24/06/20 09:45:52 WARN DAGScheduler: Broadcasting large task binary with size 1771.4 KiB\n",
      "24/06/20 09:45:57 WARN DAGScheduler: Broadcasting large task binary with size 1771.4 KiB\n",
      "24/06/20 09:46:02 WARN DAGScheduler: Broadcasting large task binary with size 1771.4 KiB\n",
      "24/06/20 09:46:07 WARN DAGScheduler: Broadcasting large task binary with size 1771.4 KiB\n",
      "                                                                                \r"
     ]
    },
    {
     "name": "stdout",
     "output_type": "stream",
     "text": [
      "Precision: 1.0\n",
      "Recall: 1.0\n",
      "F1 Score: 1.0\n",
      "Confusion Matrix:\n"
     ]
    },
    {
     "name": "stderr",
     "output_type": "stream",
     "text": [
      "24/06/20 09:46:14 WARN DAGScheduler: Broadcasting large task binary with size 1780.6 KiB\n",
      "24/06/20 09:46:19 WARN DAGScheduler: Broadcasting large task binary with size 1760.1 KiB\n"
     ]
    },
    {
     "name": "stdout",
     "output_type": "stream",
     "text": [
      "+----------------+-----+---+\n",
      "|prediction_label|  0.0|1.0|\n",
      "+----------------+-----+---+\n",
      "|             1.0|    0|149|\n",
      "|             0.0|85611|  0|\n",
      "+----------------+-----+---+\n",
      "\n"
     ]
    },
    {
     "name": "stderr",
     "output_type": "stream",
     "text": [
      "24/06/20 09:46:20 WARN DAGScheduler: Broadcasting large task binary with size 1763.3 KiB\n",
      "                                                                                \r"
     ]
    }
   ],
   "source": [
    "from pyspark.sql import SparkSession\n",
    "from pyspark.sql.functions import col\n",
    "\n",
    "class MetricsFlyweight:\n",
    "    _metrics_cache = {}\n",
    "\n",
    "    @classmethod\n",
    "    def get_metrics(cls, key, predictions_and_labels):\n",
    "        if key not in cls._metrics_cache:\n",
    "            cls._metrics_cache[key] = cls._calculate_metrics(predictions_and_labels)\n",
    "        return cls._metrics_cache[key]\n",
    "\n",
    "    @staticmethod\n",
    "    def _calculate_metrics(predictions_and_labels):\n",
    "        tp = predictions_and_labels.filter((col('prediction') == 1) & (col('label') == 1)).count()\n",
    "        fp = predictions_and_labels.filter((col('prediction') == 1) & (col('label') == 0)).count()\n",
    "        fn = predictions_and_labels.filter((col('prediction') == 0) & (col('label') == 1)).count()\n",
    "        tn = predictions_and_labels.filter((col('prediction') == 0) & (col('label') == 0)).count()\n",
    "\n",
    "        precision = tp / (tp + fp)\n",
    "        recall = tp / (tp + fn)\n",
    "        f1_score = 2 * (precision * recall) / (precision + recall)\n",
    "\n",
    "        return precision, recall, f1_score\n",
    "\n",
    "class ConfusionMatrixFlyweight:\n",
    "    _confusion_matrix_cache = {}\n",
    "\n",
    "    @classmethod\n",
    "    def get_confusion_matrix(cls, key, predictions_and_labels):\n",
    "        if key not in cls._confusion_matrix_cache:\n",
    "            cls._confusion_matrix_cache[key] = cls._calculate_confusion_matrix(predictions_and_labels)\n",
    "        return cls._confusion_matrix_cache[key]\n",
    "\n",
    "    @staticmethod\n",
    "    def _calculate_confusion_matrix(predictions_and_labels):\n",
    "        confusion_matrix = predictions_and_labels.crosstab('prediction', 'label')\n",
    "        return confusion_matrix\n",
    "\n",
    "def main():\n",
    "    # Create SparkSession\n",
    "    spark = SparkSession.builder \\\n",
    "        .appName(\"RandomForestMetrics\") \\\n",
    "        .getOrCreate()\n",
    "\n",
    "    # Read data from CSV file\n",
    "    RandomForest_Prediction = spark.read.csv(\"/kaggle/input/creditcardfraud/creditcard.csv\", header=True, inferSchema=True)\n",
    "\n",
    "    # Select only the prediction and label columns\n",
    "    predictions_and_labels = Random_Forest_Prediction.select(['prediction', 'label'])\n",
    "\n",
    "    # Calculate metrics and confusion matrix using Flyweight pattern\n",
    "    precision, recall, f1_score = MetricsFlyweight.get_metrics(\"metrics\", predictions_and_labels)\n",
    "    confusion_matrix = ConfusionMatrixFlyweight.get_confusion_matrix(\"confusion_matrix\", predictions_and_labels)\n",
    "\n",
    "    # Display metrics and confusion matrix\n",
    "    print(\"Precision:\", precision)\n",
    "    print(\"Recall:\", recall)\n",
    "    print(\"F1 Score:\", f1_score)\n",
    "    print(\"Confusion Matrix:\")\n",
    "    confusion_matrix.show()\n",
    "\n",
    "if __name__ == \"__main__\":\n",
    "    main()\n"
   ]
  },
  {
   "cell_type": "markdown",
   "id": "3145c12e",
   "metadata": {
    "application/vnd.databricks.v1+cell": {
     "cellMetadata": {},
     "inputWidgets": {},
     "nuid": "5c6de662-bcc4-4823-95ed-29f61d22867d",
     "showTitle": false,
     "title": ""
    },
    "papermill": {
     "duration": 0.07479,
     "end_time": "2024-06-20T09:46:20.435032",
     "exception": false,
     "start_time": "2024-06-20T09:46:20.360242",
     "status": "completed"
    },
    "tags": []
   },
   "source": [
    "### Logistic Regression Model Performance"
   ]
  },
  {
   "cell_type": "code",
   "execution_count": 63,
   "id": "a0bc5bab",
   "metadata": {
    "application/vnd.databricks.v1+cell": {
     "cellMetadata": {
      "byteLimit": 2048000,
      "rowLimit": 10000
     },
     "inputWidgets": {},
     "nuid": "2ee43114-9602-4e9c-a79a-36e91f7c19a0",
     "showTitle": false,
     "title": ""
    },
    "execution": {
     "iopub.execute_input": "2024-06-20T09:46:20.666306Z",
     "iopub.status.busy": "2024-06-20T09:46:20.665798Z",
     "iopub.status.idle": "2024-06-20T09:46:35.347123Z",
     "shell.execute_reply": "2024-06-20T09:46:35.345104Z"
    },
    "papermill": {
     "duration": 14.760435,
     "end_time": "2024-06-20T09:46:35.349977",
     "exception": false,
     "start_time": "2024-06-20T09:46:20.589542",
     "status": "completed"
    },
    "tags": []
   },
   "outputs": [
    {
     "name": "stderr",
     "output_type": "stream",
     "text": [
      "                                                                                \r"
     ]
    },
    {
     "name": "stdout",
     "output_type": "stream",
     "text": [
      "Precision: 0\n",
      "Recall: 0.0\n",
      "F1 Score: 0\n"
     ]
    },
    {
     "name": "stderr",
     "output_type": "stream",
     "text": [
      "[Stage 261:>                                                        (0 + 4) / 4]\r"
     ]
    },
    {
     "name": "stdout",
     "output_type": "stream",
     "text": [
      "+----------------+-----+---+\n",
      "|prediction_label|  0.0|1.0|\n",
      "+----------------+-----+---+\n",
      "|             0.0|85611|149|\n",
      "+----------------+-----+---+\n",
      "\n"
     ]
    },
    {
     "name": "stderr",
     "output_type": "stream",
     "text": [
      "                                                                                \r"
     ]
    }
   ],
   "source": [
    "# Assuming LogisticRegression_Prediction is your DataFrame with prediction and label columns\n",
    "# Replace this with your actual DataFrame\n",
    "LogisticRegression_Prediction = spark.read.csv(\"/kaggle/input/creditcardfraud/creditcard.csv\", header=True, inferSchema=True)\n",
    "\n",
    "# Select only the prediction and label columns\n",
    "predictions_and_labels = Logistic_Regression_Prediction.select(['prediction', 'label'])\n",
    "\n",
    "# Calculate true positive, false positive, false negative\n",
    "tp = predictions_and_labels.filter((col('prediction') == 1) & (col('label') == 1)).count()\n",
    "fp = predictions_and_labels.filter((col('prediction') == 1) & (col('label') == 0)).count()\n",
    "fn = predictions_and_labels.filter((col('prediction') == 0) & (col('label') == 1)).count()\n",
    "tn = predictions_and_labels.filter((col('prediction') == 0) & (col('label') == 0)).count()\n",
    "\n",
    "# Calculate precision, recall, and F1-score\n",
    "precision = tp / (tp + fp) if (tp + fp) != 0 else 0\n",
    "recall = tp / (tp + fn) if (tp + fn) != 0 else 0\n",
    "f1_score = 2 * (precision * recall) / (precision + recall) if (precision + recall) != 0 else 0\n",
    "\n",
    "print(\"Precision:\", precision)\n",
    "print(\"Recall:\", recall)\n",
    "print(\"F1 Score:\", f1_score)\n",
    "\n",
    "# Display confusion matrix\n",
    "confusion_matrix = predictions_and_labels.crosstab('prediction', 'label')\n",
    "confusion_matrix.show()"
   ]
  },
  {
   "cell_type": "markdown",
   "id": "4001dce9",
   "metadata": {
    "application/vnd.databricks.v1+cell": {
     "cellMetadata": {},
     "inputWidgets": {},
     "nuid": "c5cf01be-6aba-4eba-9435-9a90c8b147d3",
     "showTitle": false,
     "title": ""
    },
    "papermill": {
     "duration": 0.075603,
     "end_time": "2024-06-20T09:46:35.501752",
     "exception": false,
     "start_time": "2024-06-20T09:46:35.426149",
     "status": "completed"
    },
    "tags": []
   },
   "source": [
    "- Here is the singletone design pattern principal that \n",
    "  implemented on `LogisticRegression`"
   ]
  },
  {
   "cell_type": "code",
   "execution_count": 64,
   "id": "e2b22b84",
   "metadata": {
    "application/vnd.databricks.v1+cell": {
     "cellMetadata": {
      "byteLimit": 2048000,
      "rowLimit": 10000
     },
     "inputWidgets": {},
     "nuid": "cbaae0a9-8074-47bf-940d-fab1b49236fa",
     "showTitle": false,
     "title": ""
    },
    "execution": {
     "iopub.execute_input": "2024-06-20T09:46:35.653667Z",
     "iopub.status.busy": "2024-06-20T09:46:35.653169Z",
     "iopub.status.idle": "2024-06-20T09:46:50.922239Z",
     "shell.execute_reply": "2024-06-20T09:46:50.920260Z"
    },
    "papermill": {
     "duration": 15.349207,
     "end_time": "2024-06-20T09:46:50.925930",
     "exception": false,
     "start_time": "2024-06-20T09:46:35.576723",
     "status": "completed"
    },
    "tags": []
   },
   "outputs": [
    {
     "name": "stderr",
     "output_type": "stream",
     "text": [
      "24/06/20 09:46:35 WARN SparkSession: Using an existing Spark session; only runtime SQL configurations will take effect.\n",
      "                                                                                \r"
     ]
    },
    {
     "name": "stdout",
     "output_type": "stream",
     "text": [
      "Precision: 0\n",
      "Recall: 0.0\n",
      "F1 Score: 0\n"
     ]
    },
    {
     "name": "stderr",
     "output_type": "stream",
     "text": [
      "[Stage 289:============================>                            (2 + 2) / 4]\r"
     ]
    },
    {
     "name": "stdout",
     "output_type": "stream",
     "text": [
      "+----------------+-----+---+\n",
      "|prediction_label|  0.0|1.0|\n",
      "+----------------+-----+---+\n",
      "|             0.0|85611|149|\n",
      "+----------------+-----+---+\n",
      "\n"
     ]
    },
    {
     "name": "stderr",
     "output_type": "stream",
     "text": [
      "                                                                                \r"
     ]
    }
   ],
   "source": [
    "class MetricsSingleton:\n",
    "    _instance = None\n",
    "\n",
    "    def __new__(cls, *args, **kwargs):\n",
    "        if not cls._instance:\n",
    "            cls._instance = super(MetricsSingleton, cls).__new__(cls)\n",
    "        return cls._instance\n",
    "\n",
    "    def __init__(self, predictions_and_labels):\n",
    "        self.predictions_and_labels = predictions_and_labels\n",
    "\n",
    "    def calculate_metrics(self):\n",
    "        tp = self.predictions_and_labels.filter((col('prediction') == 1) & (col('label') == 1)).count()\n",
    "        fp = self.predictions_and_labels.filter((col('prediction') == 1) & (col('label') == 0)).count()\n",
    "        fn = self.predictions_and_labels.filter((col('prediction') == 0) & (col('label') == 1)).count()\n",
    "        tn = self.predictions_and_labels.filter((col('prediction') == 0) & (col('label') == 0)).count()\n",
    "\n",
    "        precision = tp / (tp + fp) if (tp + fp)!= 0 else 0\n",
    "        recall = tp / (tp + fn) if (tp + fn)!= 0 else 0\n",
    "        f1_score = 2 * (precision * recall) / (precision + recall) if (precision + recall)!= 0 else 0\n",
    "\n",
    "        return precision, recall, f1_score\n",
    "\n",
    "def main():\n",
    "    # Create SparkSession\n",
    "    spark = SparkSession.builder \\\n",
    "      .appName(\"LogisticRegressionMetrics\") \\\n",
    "      .getOrCreate()\n",
    "\n",
    "    # Read data from CSV file\n",
    "    LogisticRegression_Prediction = spark.read.csv(\"/kaggle/input/creditcardfraud/creditcard.csv\", header=True, inferSchema=True)\n",
    "\n",
    "    # Select only the prediction and label columns\n",
    "    predictions_and_labels = Logistic_Regression_Prediction.select(['prediction', 'label'])\n",
    "\n",
    "    # Calculate metrics using Singleton pattern\n",
    "    metrics = MetricsSingleton(predictions_and_labels)\n",
    "    precision, recall, f1_score = metrics.calculate_metrics()\n",
    "\n",
    "    # Display metrics\n",
    "    print(\"Precision:\", precision)\n",
    "    print(\"Recall:\", recall)\n",
    "    print(\"F1 Score:\", f1_score)\n",
    "\n",
    "    # Display confusion matrix\n",
    "    confusion_matrix = predictions_and_labels.crosstab('prediction', 'label')\n",
    "    confusion_matrix.show()\n",
    "\n",
    "if __name__ == \"__main__\":\n",
    "    main()"
   ]
  },
  {
   "cell_type": "markdown",
   "id": "eb817bca",
   "metadata": {
    "application/vnd.databricks.v1+cell": {
     "cellMetadata": {},
     "inputWidgets": {},
     "nuid": "c549205a-c08d-4dfd-a461-34e2081f73a3",
     "showTitle": false,
     "title": ""
    },
    "papermill": {
     "duration": 0.080538,
     "end_time": "2024-06-20T09:46:51.088859",
     "exception": false,
     "start_time": "2024-06-20T09:46:51.008321",
     "status": "completed"
    },
    "tags": []
   },
   "source": [
    "## Conclusion \n",
    "We applied the steps provided in project description from A to Z and you can make a comment if there is any misunderstanding or confusion with the project."
   ]
  }
 ],
 "metadata": {
  "kaggle": {
   "accelerator": "none",
   "dataSources": [
    {
     "datasetId": 310,
     "sourceId": 23498,
     "sourceType": "datasetVersion"
    }
   ],
   "dockerImageVersionId": 30732,
   "isGpuEnabled": false,
   "isInternetEnabled": true,
   "language": "python",
   "sourceType": "notebook"
  },
  "kernelspec": {
   "display_name": "Python 3",
   "language": "python",
   "name": "python3"
  },
  "language_info": {
   "codemirror_mode": {
    "name": "ipython",
    "version": 3
   },
   "file_extension": ".py",
   "mimetype": "text/x-python",
   "name": "python",
   "nbconvert_exporter": "python",
   "pygments_lexer": "ipython3",
   "version": "3.10.13"
  },
  "papermill": {
   "default_parameters": {},
   "duration": 393.953297,
   "end_time": "2024-06-20T09:46:53.794282",
   "environment_variables": {},
   "exception": null,
   "input_path": "__notebook__.ipynb",
   "output_path": "__notebook__.ipynb",
   "parameters": {},
   "start_time": "2024-06-20T09:40:19.840985",
   "version": "2.5.0"
  }
 },
 "nbformat": 4,
 "nbformat_minor": 5
}
